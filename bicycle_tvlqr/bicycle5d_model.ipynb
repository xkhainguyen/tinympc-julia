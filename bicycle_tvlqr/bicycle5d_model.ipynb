{
 "cells": [
  {
   "attachments": {},
   "cell_type": "markdown",
   "id": "7ced07ad",
   "metadata": {},
   "source": [
    "# This script shows how to formulate nonlinear bicycle model (5 states, 2 inputs) and find analytical Jacobians (Ak and Bk for TVLQR) with `Symbolics.jl`"
   ]
  },
  {
   "cell_type": "code",
   "execution_count": 1,
   "id": "c943da45-a7ca-4efd-9a20-798c23f0babb",
   "metadata": {},
   "outputs": [
    {
     "name": "stderr",
     "output_type": "stream",
     "text": [
      "\u001b[32m\u001b[1m  Activating\u001b[22m\u001b[39m environment at `~/SSD/Code/Julia/tinympc-julia-old/bicycle_tvlqr/Project.toml`\n"
     ]
    },
    {
     "name": "stderr",
     "output_type": "stream",
     "text": [
      "\u001b[32m\u001b[1m    Updating\u001b[22m\u001b[39m "
     ]
    },
    {
     "name": "stderr",
     "output_type": "stream",
     "text": [
      "registry at `~/.julia/registries/General`\n"
     ]
    },
    {
     "name": "stderr",
     "output_type": "stream",
     "text": [
      "\u001b[32m\u001b[1m    Updating\u001b[22m\u001b[39m git-repo `https://github.com/JuliaRegistries/General`\n"
     ]
    },
    {
     "name": "stderr",
     "output_type": "stream",
     "text": [
      "\u001b[32m\u001b[1m   Installed\u001b[22m\u001b[39m RandomExtensions ────────── v0.4.4\n",
      "\u001b[32m\u001b[1m   Installed\u001b[22m\u001b[39m ArrayInterface ──────────── v7.5.1\n",
      "\u001b[32m\u001b[1m   Installed\u001b[22m\u001b[39m GroupsCore ──────────────── v0.4.2\n",
      "\u001b[32m\u001b[1m   Installed\u001b[22m\u001b[39m IntervalSets ────────────── v0.7.8\n",
      "\u001b[32m\u001b[1m   Installed\u001b[22m\u001b[39m HTTP ────────────────────── v1.10.1\n",
      "\u001b[32m\u001b[1m   Installed\u001b[22m\u001b[39m Symbolics ───────────────── v5.13.0\n",
      "\u001b[32m\u001b[1m   Installed\u001b[22m\u001b[39m StaticArrays ────────────── v1.8.0\n"
     ]
    },
    {
     "name": "stderr",
     "output_type": "stream",
     "text": [
      "\u001b[32m\u001b[1m   Installed\u001b[22m\u001b[39m SymbolicIndexingInterface ─ v0.3.0\n"
     ]
    },
    {
     "name": "stderr",
     "output_type": "stream",
     "text": [
      "\u001b[32m\u001b[1m   Installed\u001b[22m\u001b[39m IntegerMathUtils ────────── v0.1.2\n",
      "\u001b[32m\u001b[1m   Installed\u001b[22m\u001b[39m QuadGK ──────────────────── v2.9.1\n",
      "\u001b[32m\u001b[1m   Installed\u001b[22m\u001b[39m MutableArithmetics ──────── v1.4.0\n",
      "\u001b[32m\u001b[1m   Installed\u001b[22m\u001b[39m Adapt ───────────────────── v3.7.2\n"
     ]
    },
    {
     "name": "stderr",
     "output_type": "stream",
     "text": [
      "\u001b[32m\u001b[1m   Installed\u001b[22m\u001b[39m LabelledArrays ──────────── v1.15.0\n",
      "\u001b[32m\u001b[1m   Installed\u001b[22m\u001b[39m BitFlags ────────────────── v0.1.8\n",
      "\u001b[32m\u001b[1m   Installed\u001b[22m\u001b[39m JLFzf ───────────────────── v0.1.7\n",
      "\u001b[32m\u001b[1m   Installed\u001b[22m\u001b[39m MultivariatePolynomials ─── v0.5.3\n"
     ]
    },
    {
     "name": "stderr",
     "output_type": "stream",
     "text": [
      "\u001b[32m\u001b[1m   Installed\u001b[22m\u001b[39m SIMD ────────────────────── v3.4.6\n",
      "\u001b[32m\u001b[1m   Installed\u001b[22m\u001b[39m Primes ──────────────────── v0.5.5\n",
      "\u001b[32m\u001b[1m   Installed\u001b[22m\u001b[39m OrderedCollections ──────── v1.6.3\n"
     ]
    },
    {
     "name": "stderr",
     "output_type": "stream",
     "text": [
      "\u001b[32m\u001b[1m   Installed\u001b[22m\u001b[39m DomainSets ──────────────── v0.6.7\n"
     ]
    },
    {
     "name": "stderr",
     "output_type": "stream",
     "text": [
      "\u001b[32m\u001b[1m   Installed\u001b[22m\u001b[39m JpegTurbo_jll ───────────── v3.0.1+0\n",
      "\u001b[32m\u001b[1m   Installed\u001b[22m\u001b[39m XML2_jll ────────────────── v2.12.2+0\n",
      "\u001b[32m\u001b[1m   Installed\u001b[22m\u001b[39m Tables ──────────────────── v1.11.1\n"
     ]
    },
    {
     "name": "stderr",
     "output_type": "stream",
     "text": [
      "\u001b[32m\u001b[1m   Installed\u001b[22m\u001b[39m MbedTLS ─────────────────── v1.1.9\n"
     ]
    },
    {
     "name": "stderr",
     "output_type": "stream",
     "text": [
      "\u001b[32m\u001b[1m   Installed\u001b[22m\u001b[39m DynamicPolynomials ──────── v0.5.3\n",
      "\u001b[32m\u001b[1m   Installed\u001b[22m\u001b[39m Distributions ───────────── v0.25.104\n"
     ]
    },
    {
     "name": "stderr",
     "output_type": "stream",
     "text": [
      "\u001b[32m\u001b[1m   Installed\u001b[22m\u001b[39m AbstractAlgebra ─────────── v0.33.0\n",
      "\u001b[32m\u001b[1m   Installed\u001b[22m\u001b[39m ZygoteRules ─────────────── v0.2.4\n",
      "\u001b[32m\u001b[1m   Installed\u001b[22m\u001b[39m OpenSSL_jll ─────────────── v1.1.23+0\n"
     ]
    },
    {
     "name": "stderr",
     "output_type": "stream",
     "text": [
      "\u001b[32m\u001b[1m   Installed\u001b[22m\u001b[39m libpng_jll ──────────────── v1.6.40+0\n",
      "\u001b[32m\u001b[1m   Installed\u001b[22m\u001b[39m fzf_jll ─────────────────── v0.43.0+0\n",
      "\u001b[32m\u001b[1m   Installed\u001b[22m\u001b[39m Unityper ────────────────── v0.1.5\n"
     ]
    },
    {
     "name": "stderr",
     "output_type": "stream",
     "text": [
      "\u001b[32m\u001b[1m   Installed\u001b[22m\u001b[39m SymbolicUtils ───────────── v1.5.0\n"
     ]
    },
    {
     "name": "stderr",
     "output_type": "stream",
     "text": [
      "\u001b[32m\u001b[1m   Installed\u001b[22m\u001b[39m Compat ──────────────────── v4.10.1\n",
      "\u001b[32m\u001b[1m   Installed\u001b[22m\u001b[39m PDMats ──────────────────── v0.11.31\n",
      "\u001b[32m\u001b[1m   Installed\u001b[22m\u001b[39m Unitful ─────────────────── v1.19.0\n"
     ]
    },
    {
     "name": "stderr",
     "output_type": "stream",
     "text": [
      "\u001b[32m\u001b[1m   Installed\u001b[22m\u001b[39m Bijections ──────────────── v0.1.6\n",
      "\u001b[32m\u001b[1m   Installed\u001b[22m\u001b[39m Groebner ────────────────── v0.5.0\n"
     ]
    },
    {
     "name": "stderr",
     "output_type": "stream",
     "text": [
      "\u001b[32m\u001b[1m    Updating\u001b[22m\u001b[39m `~/SSD/Code/Julia/tinympc-julia-old/bicycle_tvlqr/Project.toml`\n"
     ]
    },
    {
     "name": "stderr",
     "output_type": "stream",
     "text": [
      " \u001b[90m [f6369f11] \u001b[39m\u001b[92m+ ForwardDiff v0.10.36\u001b[39m\n",
      " \u001b[90m [91a5bcdd] \u001b[39m\u001b[92m+ Plots v1.39.0\u001b[39m\n",
      " \u001b[90m [0c5d862f] \u001b[39m\u001b[92m+ Symbolics v5.13.0\u001b[39m\n",
      "\u001b[32m\u001b[1m    Updating\u001b[22m\u001b[39m `~/SSD/Code/Julia/tinympc-julia-old/bicycle_tvlqr/Manifest.toml`\n",
      " \u001b[90m [c3fe647b] \u001b[39m\u001b[92m+ AbstractAlgebra v0.33.0\u001b[39m\n",
      " \u001b[90m [1520ce14] \u001b[39m\u001b[92m+ AbstractTrees v0.4.4\u001b[39m\n",
      " \u001b[90m [79e6a3ab] \u001b[39m\u001b[92m+ Adapt v3.7.2\u001b[39m\n",
      " \u001b[90m [4fba245c] \u001b[39m\u001b[92m+ ArrayInterface v7.5.1\u001b[39m\n",
      " \u001b[90m [30b0a656] \u001b[39m\u001b[92m+ ArrayInterfaceCore v0.1.29\u001b[39m\n",
      " \u001b[90m [dd5226c6] \u001b[39m\u001b[92m+ ArrayInterfaceStaticArraysCore v0.1.4\u001b[39m\n",
      " \u001b[90m [e2ed5e7c] \u001b[39m\u001b[92m+ Bijections v0.1.6\u001b[39m\n",
      " \u001b[90m [d1d4a3ce] \u001b[39m\u001b[92m+ BitFlags v0.1.8\u001b[39m\n",
      " \u001b[90m [49dc2e85] \u001b[39m\u001b[92m+ Calculus v0.5.1\u001b[39m\n",
      " \u001b[90m [d360d2e6] \u001b[39m\u001b[92m+ ChainRulesCore v1.18.0\u001b[39m\n",
      " \u001b[90m [9e997f8a] \u001b[39m\u001b[92m+ ChangesOfVariables v0.1.8\u001b[39m\n",
      " \u001b[90m [944b1d66] \u001b[39m\u001b[92m+ CodecZlib v0.7.3\u001b[39m\n",
      " \u001b[90m [35d6a980] \u001b[39m\u001b[92m+ ColorSchemes v3.24.0\u001b[39m\n",
      " \u001b[90m [3da002f7] \u001b[39m\u001b[92m+ ColorTypes v0.11.4\u001b[39m\n",
      " \u001b[90m [c3611d14] \u001b[39m\u001b[92m+ ColorVectorSpace v0.9.10\u001b[39m\n",
      " \u001b[90m [5ae59095] \u001b[39m\u001b[92m+ Colors v0.12.10\u001b[39m\n",
      " \u001b[90m [861a8166] \u001b[39m\u001b[92m+ Combinatorics v1.0.2\u001b[39m\n",
      " \u001b[90m [38540f10] \u001b[39m\u001b[92m+ CommonSolve v0.2.4\u001b[39m\n",
      " \u001b[90m [bbf7d656] \u001b[39m\u001b[92m+ CommonSubexpressions v0.3.0\u001b[39m\n",
      " \u001b[90m [34da2185] \u001b[39m\u001b[92m+ Compat v4.10.1\u001b[39m\n",
      " \u001b[90m [b152e2b5] \u001b[39m\u001b[92m+ CompositeTypes v0.1.3\u001b[39m\n",
      " \u001b[90m [f0e56b4a] \u001b[39m\u001b[92m+ ConcurrentUtilities v2.3.0\u001b[39m\n",
      " \u001b[90m [187b0558] \u001b[39m\u001b[92m+ ConstructionBase v1.5.4\u001b[39m\n",
      " \u001b[90m [d38c429a] \u001b[39m\u001b[92m+ Contour v0.6.2\u001b[39m\n",
      " \u001b[90m [9a962f9c] \u001b[39m\u001b[92m+ DataAPI v1.15.0\u001b[39m\n",
      " \u001b[90m [864edb3b] \u001b[39m\u001b[92m+ DataStructures v0.18.15\u001b[39m\n",
      " \u001b[90m [e2d170a0] \u001b[39m\u001b[92m+ DataValueInterfaces v1.0.0\u001b[39m\n",
      " \u001b[90m [b429d917] \u001b[39m\u001b[92m+ DensityInterface v0.4.0\u001b[39m\n",
      " \u001b[90m [163ba53b] \u001b[39m\u001b[92m+ DiffResults v1.1.0\u001b[39m\n",
      " \u001b[90m [b552c78f] \u001b[39m\u001b[92m+ DiffRules v1.15.1\u001b[39m\n",
      " \u001b[90m [31c24e10] \u001b[39m\u001b[92m+ Distributions v0.25.104\u001b[39m\n",
      " \u001b[90m [ffbed154] \u001b[39m\u001b[92m+ DocStringExtensions v0.9.3\u001b[39m\n",
      " \u001b[90m [5b8099bc] \u001b[39m\u001b[92m+ DomainSets v0.6.7\u001b[39m\n",
      " \u001b[90m [fa6b7ba4] \u001b[39m\u001b[92m+ DualNumbers v0.6.8\u001b[39m\n",
      " \u001b[90m [7c1d4256] \u001b[39m\u001b[92m+ DynamicPolynomials v0.5.3\u001b[39m\n",
      " \u001b[90m [4e289a0a] \u001b[39m\u001b[92m+ EnumX v1.0.4\u001b[39m\n",
      " \u001b[90m [460bff9d] \u001b[39m\u001b[92m+ ExceptionUnwrapping v0.1.9\u001b[39m\n",
      " \u001b[90m [e2ba6199] \u001b[39m\u001b[92m+ ExprTools v0.1.10\u001b[39m\n",
      " \u001b[90m [c87230d0] \u001b[39m\u001b[92m+ FFMPEG v0.4.1\u001b[39m\n",
      " \u001b[90m [1a297f60] \u001b[39m\u001b[92m+ FillArrays v0.13.11\u001b[39m\n",
      " \u001b[90m [53c48c17] \u001b[39m\u001b[92m+ FixedPointNumbers v0.8.4\u001b[39m\n",
      " \u001b[90m [59287772] \u001b[39m\u001b[92m+ Formatting v0.4.2\u001b[39m\n",
      " \u001b[90m [f6369f11] \u001b[39m\u001b[92m+ ForwardDiff v0.10.36\u001b[39m\n",
      " \u001b[90m [069b7b12] \u001b[39m\u001b[92m+ FunctionWrappers v1.1.3\u001b[39m\n",
      " \u001b[90m [77dc65aa] \u001b[39m\u001b[92m+ FunctionWrappersWrappers v0.1.3\u001b[39m\n",
      " \u001b[90m [46192b85] \u001b[39m\u001b[92m+ GPUArraysCore v0.1.5\u001b[39m\n",
      " \u001b[90m [28b8d3ca] \u001b[39m\u001b[92m+ GR v0.72.8\u001b[39m\n",
      " \u001b[90m [42e2da0e] \u001b[39m\u001b[92m+ Grisu v1.0.2\u001b[39m\n",
      " \u001b[90m [0b43b601] \u001b[39m\u001b[92m+ Groebner v0.5.0\u001b[39m\n",
      " \u001b[90m [d5909c97] \u001b[39m\u001b[92m+ GroupsCore v0.4.2\u001b[39m\n",
      " \u001b[90m [cd3eb016] \u001b[39m\u001b[92m+ HTTP v1.10.1\u001b[39m\n",
      " \u001b[90m [34004b35] \u001b[39m\u001b[92m+ HypergeometricFunctions v0.3.23\u001b[39m\n",
      " \u001b[90m [615f187c] \u001b[39m\u001b[92m+ IfElse v0.1.1\u001b[39m\n",
      " \u001b[90m [18e54dd8] \u001b[39m\u001b[92m+ IntegerMathUtils v0.1.2\u001b[39m\n",
      " \u001b[90m [8197267c] \u001b[39m\u001b[92m+ IntervalSets v0.7.8\u001b[39m\n",
      " \u001b[90m [3587e190] \u001b[39m\u001b[92m+ InverseFunctions v0.1.12\u001b[39m\n",
      " \u001b[90m [92d709cd] \u001b[39m\u001b[92m+ IrrationalConstants v0.2.2\u001b[39m\n",
      " \u001b[90m [82899510] \u001b[39m\u001b[92m+ IteratorInterfaceExtensions v1.0.0\u001b[39m\n",
      " \u001b[90m [1019f520] \u001b[39m\u001b[92m+ JLFzf v0.1.7\u001b[39m\n",
      " \u001b[90m [692b3bcd] \u001b[39m\u001b[92m+ JLLWrappers v1.5.0\u001b[39m\n",
      " \u001b[90m [682c06a0] \u001b[39m\u001b[92m+ JSON v0.21.4\u001b[39m\n",
      " \u001b[90m [b964fa9f] \u001b[39m\u001b[92m+ LaTeXStrings v1.3.1\u001b[39m\n",
      " \u001b[90m [2ee39098] \u001b[39m\u001b[92m+ LabelledArrays v1.15.0\u001b[39m\n",
      " \u001b[90m [984bce1d] \u001b[39m\u001b[92m+ LambertW v0.4.6\u001b[39m\n",
      " \u001b[90m [23fbe1c1] \u001b[39m\u001b[92m+ Latexify v0.16.1\u001b[39m\n",
      " \u001b[90m [2ab3a3ac] \u001b[39m\u001b[92m+ LogExpFunctions v0.3.26\u001b[39m\n",
      " \u001b[90m [e6f89c97] \u001b[39m\u001b[92m+ LoggingExtras v1.0.3\u001b[39m\n",
      " \u001b[90m [1914dd2f] \u001b[39m\u001b[92m+ MacroTools v0.5.11\u001b[39m\n",
      " \u001b[90m [739be429] \u001b[39m\u001b[92m+ MbedTLS v1.1.9\u001b[39m\n",
      " \u001b[90m [442fdcdd] \u001b[39m\u001b[92m+ Measures v0.3.2\u001b[39m\n",
      " \u001b[90m [e1d29d7a] \u001b[39m\u001b[92m+ Missings v1.1.0\u001b[39m\n",
      " \u001b[90m [102ac46a] \u001b[39m\u001b[92m+ MultivariatePolynomials v0.5.3\u001b[39m\n",
      " \u001b[90m [d8a4904e] \u001b[39m\u001b[92m+ MutableArithmetics v1.4.0\u001b[39m\n",
      " \u001b[90m [77ba4419] \u001b[39m\u001b[92m+ NaNMath v1.0.2\u001b[39m\n",
      " \u001b[90m [4d8831e6] \u001b[39m\u001b[92m+ OpenSSL v1.4.1\u001b[39m\n",
      " \u001b[90m [bac558e1] \u001b[39m\u001b[92m+ OrderedCollections v1.6.3\u001b[39m\n",
      " \u001b[90m [90014a1f] \u001b[39m\u001b[92m+ PDMats v0.11.31\u001b[39m\n",
      " \u001b[90m [69de0a69] \u001b[39m\u001b[92m+ Parsers v2.8.0\u001b[39m\n",
      " \u001b[90m [b98c9c47] \u001b[39m\u001b[92m+ Pipe v1.3.0\u001b[39m\n",
      " \u001b[90m [ccf2f8ad] \u001b[39m\u001b[92m+ PlotThemes v3.1.0\u001b[39m\n",
      " \u001b[90m [995b91a9] \u001b[39m\u001b[92m+ PlotUtils v1.3.5\u001b[39m\n",
      " \u001b[90m [91a5bcdd] \u001b[39m\u001b[92m+ Plots v1.39.0\u001b[39m\n",
      " \u001b[90m [d236fae5] \u001b[39m\u001b[92m+ PreallocationTools v0.4.12\u001b[39m\n",
      " \u001b[90m [aea7be01] \u001b[39m\u001b[92m+ PrecompileTools v1.2.0\u001b[39m\n",
      " \u001b[90m [21216c6a] \u001b[39m\u001b[92m+ Preferences v1.4.1\u001b[39m\n",
      " \u001b[90m [27ebfcd6] \u001b[39m\u001b[92m+ Primes v0.5.5\u001b[39m\n",
      " \u001b[90m [1fd47b50] \u001b[39m\u001b[92m+ QuadGK v2.9.1\u001b[39m\n",
      " \u001b[90m [fb686558] \u001b[39m\u001b[92m+ RandomExtensions v0.4.4\u001b[39m\n",
      " \u001b[90m [3cdcf5f2] \u001b[39m\u001b[92m+ RecipesBase v1.3.4\u001b[39m\n",
      " \u001b[90m [01d81517] \u001b[39m\u001b[92m+ RecipesPipeline v0.6.12\u001b[39m\n",
      " \u001b[90m [731186ca] \u001b[39m\u001b[92m+ RecursiveArrayTools v2.32.3\u001b[39m\n",
      " \u001b[90m [189a3867] \u001b[39m\u001b[92m+ Reexport v1.2.2\u001b[39m\n",
      " \u001b[90m [05181044] \u001b[39m\u001b[92m+ RelocatableFolders v1.0.1\u001b[39m\n",
      " \u001b[90m [ae029012] \u001b[39m\u001b[92m+ Requires v1.3.0\u001b[39m\n",
      " \u001b[90m [79098fc4] \u001b[39m\u001b[92m+ Rmath v0.7.1\u001b[39m\n",
      " \u001b[90m [7e49a35a] \u001b[39m\u001b[92m+ RuntimeGeneratedFunctions v0.5.12\u001b[39m\n",
      " \u001b[90m [fdea26ae] \u001b[39m\u001b[92m+ SIMD v3.4.6\u001b[39m\n"
     ]
    },
    {
     "name": "stderr",
     "output_type": "stream",
     "text": [
      " \u001b[90m [0bca4576] \u001b[39m\u001b[92m+ SciMLBase v1.81.0\u001b[39m\n",
      " \u001b[90m [6c6a2e73] \u001b[39m\u001b[92m+ Scratch v1.2.1\u001b[39m\n",
      " \u001b[90m [efcf1570] \u001b[39m\u001b[92m+ Setfield v1.1.1\u001b[39m\n",
      " \u001b[90m [992d4aef] \u001b[39m\u001b[92m+ Showoff v1.0.3\u001b[39m\n",
      " \u001b[90m [777ac1f9] \u001b[39m\u001b[92m+ SimpleBufferStream v1.1.0\u001b[39m\n",
      " \u001b[90m [66db9d55] \u001b[39m\u001b[92m+ SnoopPrecompile v1.0.3\u001b[39m\n",
      " \u001b[90m [a2af1166] \u001b[39m\u001b[92m+ SortingAlgorithms v1.2.0\u001b[39m\n",
      " \u001b[90m [276daf66] \u001b[39m\u001b[92m+ SpecialFunctions v2.3.1\u001b[39m\n",
      " \u001b[90m [90137ffa] \u001b[39m\u001b[92m+ StaticArrays v1.8.0\u001b[39m\n",
      " \u001b[90m [1e83bf80] \u001b[39m\u001b[92m+ StaticArraysCore v1.4.2\u001b[39m\n",
      " \u001b[90m [82ae8749] \u001b[39m\u001b[92m+ StatsAPI v1.7.0\u001b[39m\n",
      " \u001b[90m [2913bbd2] \u001b[39m\u001b[92m+ StatsBase v0.34.2\u001b[39m\n",
      " \u001b[90m [4c63d2b9] \u001b[39m\u001b[92m+ StatsFuns v1.3.0\u001b[39m\n",
      " \u001b[90m [2efcf032] \u001b[39m\u001b[92m+ SymbolicIndexingInterface v0.3.0\u001b[39m\n",
      " \u001b[90m [d1185830] \u001b[39m\u001b[92m+ SymbolicUtils v1.5.0\u001b[39m\n",
      " \u001b[90m [0c5d862f] \u001b[39m\u001b[92m+ Symbolics v5.13.0\u001b[39m\n",
      " \u001b[90m [3783bdb8] \u001b[39m\u001b[92m+ TableTraits v1.0.1\u001b[39m\n",
      " \u001b[90m [bd369af6] \u001b[39m\u001b[92m+ Tables v1.11.1\u001b[39m\n",
      " \u001b[90m [62fd8b95] \u001b[39m\u001b[92m+ TensorCore v0.1.1\u001b[39m\n",
      " \u001b[90m [a759f4b9] \u001b[39m\u001b[92m+ TimerOutputs v0.5.23\u001b[39m\n",
      " \u001b[90m [3bb67fe8] \u001b[39m\u001b[92m+ TranscodingStreams v0.10.2\u001b[39m\n",
      " \u001b[90m [5c2747f8] \u001b[39m\u001b[92m+ URIs v1.5.1\u001b[39m\n",
      " \u001b[90m [1cfade01] \u001b[39m\u001b[92m+ UnicodeFun v0.4.1\u001b[39m\n",
      " \u001b[90m [1986cc42] \u001b[39m\u001b[92m+ Unitful v1.19.0\u001b[39m\n",
      " \u001b[90m [45397f5d] \u001b[39m\u001b[92m+ UnitfulLatexify v1.6.3\u001b[39m\n",
      " \u001b[90m [a7c27f48] \u001b[39m\u001b[92m+ Unityper v0.1.5\u001b[39m\n",
      " \u001b[90m [41fe7b60] \u001b[39m\u001b[92m+ Unzip v0.1.2\u001b[39m\n",
      " \u001b[90m [700de1a5] \u001b[39m\u001b[92m+ ZygoteRules v0.2.4\u001b[39m\n",
      " \u001b[90m [6e34b625] \u001b[39m\u001b[92m+ Bzip2_jll v1.0.8+0\u001b[39m\n",
      " \u001b[90m [83423d85] \u001b[39m\u001b[92m+ Cairo_jll v1.16.1+1\u001b[39m\n",
      " \u001b[90m [2702e6a9] \u001b[39m\u001b[92m+ EpollShim_jll v0.0.20230411+0\u001b[39m\n",
      " \u001b[90m [2e619515] \u001b[39m\u001b[92m+ Expat_jll v2.5.0+0\u001b[39m\n",
      " \u001b[90m [b22a6f82] \u001b[39m\u001b[92m+ FFMPEG_jll v4.4.2+2\u001b[39m\n",
      " \u001b[90m [a3f928ae] \u001b[39m\u001b[92m+ Fontconfig_jll v2.13.93+0\u001b[39m\n",
      " \u001b[90m [d7e528f0] \u001b[39m\u001b[92m+ FreeType2_jll v2.13.1+0\u001b[39m\n",
      " \u001b[90m [559328eb] \u001b[39m\u001b[92m+ FriBidi_jll v1.0.10+0\u001b[39m\n",
      " \u001b[90m [0656b61e] \u001b[39m\u001b[92m+ GLFW_jll v3.3.8+0\u001b[39m\n",
      " \u001b[90m [d2c73de3] \u001b[39m\u001b[92m+ GR_jll v0.72.8+0\u001b[39m\n",
      " \u001b[90m [78b55507] \u001b[39m\u001b[92m+ Gettext_jll v0.21.0+0\u001b[39m\n",
      " \u001b[90m [7746bdde] \u001b[39m\u001b[92m+ Glib_jll v2.76.5+0\u001b[39m\n",
      " \u001b[90m [3b182d85] \u001b[39m\u001b[92m+ Graphite2_jll v1.3.14+0\u001b[39m\n",
      " \u001b[90m [2e76f6c2] \u001b[39m\u001b[92m+ HarfBuzz_jll v2.8.1+1\u001b[39m\n",
      " \u001b[90m [aacddb02] \u001b[39m\u001b[92m+ JpegTurbo_jll v3.0.1+0\u001b[39m\n",
      " \u001b[90m [c1c5ebd0] \u001b[39m\u001b[92m+ LAME_jll v3.100.1+0\u001b[39m\n",
      " \u001b[90m [88015f11] \u001b[39m\u001b[92m+ LERC_jll v3.0.0+1\u001b[39m\n",
      " \u001b[90m [1d63c593] \u001b[39m\u001b[92m+ LLVMOpenMP_jll v15.0.4+0\u001b[39m\n",
      " \u001b[90m [dd4b983a] \u001b[39m\u001b[92m+ LZO_jll v2.10.1+0\u001b[39m\n",
      " \u001b[90m [e9f186c6] \u001b[39m\u001b[92m+ Libffi_jll v3.2.2+1\u001b[39m\n",
      " \u001b[90m [d4300ac3] \u001b[39m\u001b[92m+ Libgcrypt_jll v1.8.7+0\u001b[39m\n",
      " \u001b[90m [7e76a0d4] \u001b[39m\u001b[92m+ Libglvnd_jll v1.6.0+0\u001b[39m\n",
      " \u001b[90m [7add5ba3] \u001b[39m\u001b[92m+ Libgpg_error_jll v1.42.0+0\u001b[39m\n",
      " \u001b[90m [94ce4f54] \u001b[39m\u001b[92m+ Libiconv_jll v1.17.0+0\u001b[39m\n",
      " \u001b[90m [4b2f31a3] \u001b[39m\u001b[92m+ Libmount_jll v2.35.0+0\u001b[39m\n",
      " \u001b[90m [89763e89] \u001b[39m\u001b[92m+ Libtiff_jll v4.4.0+0\u001b[39m\n",
      " \u001b[90m [38a345b3] \u001b[39m\u001b[92m+ Libuuid_jll v2.36.0+0\u001b[39m\n",
      " \u001b[90m [e7412a2a] \u001b[39m\u001b[92m+ Ogg_jll v1.3.5+1\u001b[39m\n",
      " \u001b[90m [458c3c95] \u001b[39m\u001b[92m+ OpenSSL_jll v1.1.23+0\u001b[39m\n",
      " \u001b[90m [efe28fd5] \u001b[39m\u001b[92m+ OpenSpecFun_jll v0.5.5+0\u001b[39m\n",
      " \u001b[90m [91d4177d] \u001b[39m\u001b[92m+ Opus_jll v1.3.2+0\u001b[39m\n",
      " \u001b[90m [30392449] \u001b[39m\u001b[92m+ Pixman_jll v0.42.2+0\u001b[39m\n",
      " \u001b[90m [ea2cea3b] \u001b[39m\u001b[92m+ Qt5Base_jll v5.15.3+2\u001b[39m\n",
      " \u001b[90m [f50d1b31] \u001b[39m\u001b[92m+ Rmath_jll v0.4.0+0\u001b[39m\n",
      " \u001b[90m [a2964d1f] \u001b[39m\u001b[92m+ Wayland_jll v1.21.0+1\u001b[39m\n",
      " \u001b[90m [2381bf8a] \u001b[39m\u001b[92m+ Wayland_protocols_jll v1.25.0+0\u001b[39m\n",
      " \u001b[90m [02c8fc9c] \u001b[39m\u001b[92m+ XML2_jll v2.12.2+0\u001b[39m\n",
      " \u001b[90m [aed1982a] \u001b[39m\u001b[92m+ XSLT_jll v1.1.34+0\u001b[39m\n",
      " \u001b[90m [4f6342f7] \u001b[39m\u001b[92m+ Xorg_libX11_jll v1.8.6+0\u001b[39m\n",
      " \u001b[90m [0c0b7dd1] \u001b[39m\u001b[92m+ Xorg_libXau_jll v1.0.11+0\u001b[39m\n",
      " \u001b[90m [935fb764] \u001b[39m\u001b[92m+ Xorg_libXcursor_jll v1.2.0+4\u001b[39m\n",
      " \u001b[90m [a3789734] \u001b[39m\u001b[92m+ Xorg_libXdmcp_jll v1.1.4+0\u001b[39m\n",
      " \u001b[90m [1082639a] \u001b[39m\u001b[92m+ Xorg_libXext_jll v1.3.4+4\u001b[39m\n",
      " \u001b[90m [d091e8ba] \u001b[39m\u001b[92m+ Xorg_libXfixes_jll v5.0.3+4\u001b[39m\n",
      " \u001b[90m [a51aa0fd] \u001b[39m\u001b[92m+ Xorg_libXi_jll v1.7.10+4\u001b[39m\n",
      " \u001b[90m [d1454406] \u001b[39m\u001b[92m+ Xorg_libXinerama_jll v1.1.4+4\u001b[39m\n",
      " \u001b[90m [ec84b674] \u001b[39m\u001b[92m+ Xorg_libXrandr_jll v1.5.2+4\u001b[39m\n",
      " \u001b[90m [ea2f1a96] \u001b[39m\u001b[92m+ Xorg_libXrender_jll v0.9.10+4\u001b[39m\n",
      " \u001b[90m [14d82f49] \u001b[39m\u001b[92m+ Xorg_libpthread_stubs_jll v0.1.1+0\u001b[39m\n",
      " \u001b[90m [c7cfdc94] \u001b[39m\u001b[92m+ Xorg_libxcb_jll v1.15.0+0\u001b[39m\n",
      " \u001b[90m [cc61e674] \u001b[39m\u001b[92m+ Xorg_libxkbfile_jll v1.1.2+0\u001b[39m\n",
      " \u001b[90m [12413925] \u001b[39m\u001b[92m+ Xorg_xcb_util_image_jll v0.4.0+1\u001b[39m\n",
      " \u001b[90m [2def613f] \u001b[39m\u001b[92m+ Xorg_xcb_util_jll v0.4.0+1\u001b[39m\n",
      " \u001b[90m [975044d2] \u001b[39m\u001b[92m+ Xorg_xcb_util_keysyms_jll v0.4.0+1\u001b[39m\n",
      " \u001b[90m [0d47668e] \u001b[39m\u001b[92m+ Xorg_xcb_util_renderutil_jll v0.3.9+1\u001b[39m\n",
      " \u001b[90m [c22f9ab0] \u001b[39m\u001b[92m+ Xorg_xcb_util_wm_jll v0.4.1+1\u001b[39m\n",
      " \u001b[90m [35661453] \u001b[39m\u001b[92m+ Xorg_xkbcomp_jll v1.4.6+0\u001b[39m\n",
      " \u001b[90m [33bec58e] \u001b[39m\u001b[92m+ Xorg_xkeyboard_config_jll v2.39.0+0\u001b[39m\n",
      " \u001b[90m [c5fb5394] \u001b[39m\u001b[92m+ Xorg_xtrans_jll v1.5.0+0\u001b[39m\n",
      " \u001b[90m [3161d3a3] \u001b[39m\u001b[92m+ Zstd_jll v1.5.5+0\u001b[39m\n",
      " \u001b[90m [214eeab7] \u001b[39m\u001b[92m+ fzf_jll v0.43.0+0\u001b[39m\n",
      " \u001b[90m [a4ae2306] \u001b[39m\u001b[92m+ libaom_jll v3.4.0+0\u001b[39m\n",
      " \u001b[90m [0ac62f75] \u001b[39m\u001b[92m+ libass_jll v0.15.1+0\u001b[39m\n",
      " \u001b[90m [f638f0a6] \u001b[39m\u001b[92m+ libfdk_aac_jll v2.0.2+0\u001b[39m\n",
      " \u001b[90m [b53b4c65] \u001b[39m\u001b[92m+ libpng_jll v1.6.40+0\u001b[39m\n",
      " \u001b[90m [f27f6e37] \u001b[39m\u001b[92m+ libvorbis_jll v1.3.7+1\u001b[39m\n",
      " \u001b[90m [1270edf5] \u001b[39m\u001b[92m+ x264_jll v2021.5.5+0\u001b[39m\n",
      " \u001b[90m [dfaa095f] \u001b[39m\u001b[92m+ x265_jll v3.5.0+0\u001b[39m\n",
      " \u001b[90m [d8fb68d0] \u001b[39m\u001b[92m+ xkbcommon_jll v1.4.1+1\u001b[39m\n",
      " \u001b[90m [0dad84c5] \u001b[39m\u001b[92m+ ArgTools\u001b[39m\n",
      " \u001b[90m [56f22d72] \u001b[39m\u001b[92m+ Artifacts\u001b[39m\n",
      " \u001b[90m [2a0f44e3] \u001b[39m\u001b[92m+ Base64\u001b[39m\n",
      " \u001b[90m [ade2ca70] \u001b[39m\u001b[92m+ Dates\u001b[39m\n",
      " \u001b[90m [8bb1440f] \u001b[39m\u001b[92m+ DelimitedFiles\u001b[39m\n",
      " \u001b[90m [8ba89e20] \u001b[39m\u001b[92m+ Distributed\u001b[39m\n",
      " \u001b[90m [f43a241f] \u001b[39m\u001b[92m+ Downloads\u001b[39m\n",
      " \u001b[90m [9fa8497b] \u001b[39m\u001b[92m+ Future\u001b[39m\n",
      " \u001b[90m [b77e0a4c] \u001b[39m\u001b[92m+ InteractiveUtils\u001b[39m\n",
      " \u001b[90m [b27032c2] \u001b[39m\u001b[92m+ LibCURL\u001b[39m\n",
      " \u001b[90m [76f85450] \u001b[39m\u001b[92m+ LibGit2\u001b[39m\n",
      " \u001b[90m [8f399da3] \u001b[39m\u001b[92m+ Libdl\u001b[39m\n",
      " \u001b[90m [37e2e46d] \u001b[39m\u001b[92m+ LinearAlgebra\u001b[39m\n",
      " \u001b[90m [56ddb016] \u001b[39m\u001b[92m+ Logging\u001b[39m\n",
      " \u001b[90m [d6f4376e] \u001b[39m\u001b[92m+ Markdown\u001b[39m\n",
      " \u001b[90m [a63ad114] \u001b[39m\u001b[92m+ Mmap\u001b[39m\n",
      " \u001b[90m [ca575930] \u001b[39m\u001b[92m+ NetworkOptions\u001b[39m\n"
     ]
    },
    {
     "name": "stderr",
     "output_type": "stream",
     "text": [
      " \u001b[90m [44cfe95a] \u001b[39m\u001b[92m+ Pkg\u001b[39m\n",
      " \u001b[90m [de0858da] \u001b[39m\u001b[92m+ Printf\u001b[39m\n",
      " \u001b[90m [3fa0cd96] \u001b[39m\u001b[92m+ REPL\u001b[39m\n",
      " \u001b[90m [9a3f8284] \u001b[39m\u001b[92m+ Random\u001b[39m\n",
      " \u001b[90m [ea8e919c] \u001b[39m\u001b[92m+ SHA\u001b[39m\n",
      " \u001b[90m [9e88b42a] \u001b[39m\u001b[92m+ Serialization\u001b[39m\n",
      " \u001b[90m [6462fe0b] \u001b[39m\u001b[92m+ Sockets\u001b[39m\n",
      " \u001b[90m [2f01184e] \u001b[39m\u001b[92m+ SparseArrays\u001b[39m\n",
      " \u001b[90m [10745b16] \u001b[39m\u001b[92m+ Statistics\u001b[39m\n",
      " \u001b[90m [4607b0f0] \u001b[39m\u001b[92m+ SuiteSparse\u001b[39m\n",
      " \u001b[90m [fa267f1f] \u001b[39m\u001b[92m+ TOML\u001b[39m\n",
      " \u001b[90m [a4e569a6] \u001b[39m\u001b[92m+ Tar\u001b[39m\n",
      " \u001b[90m [8dfed614] \u001b[39m\u001b[92m+ Test\u001b[39m\n",
      " \u001b[90m [cf7118a7] \u001b[39m\u001b[92m+ UUIDs\u001b[39m\n",
      " \u001b[90m [4ec0a83e] \u001b[39m\u001b[92m+ Unicode\u001b[39m\n",
      " \u001b[90m [e66e0078] \u001b[39m\u001b[92m+ CompilerSupportLibraries_jll\u001b[39m\n",
      " \u001b[90m [deac9b47] \u001b[39m\u001b[92m+ LibCURL_jll\u001b[39m\n",
      " \u001b[90m [29816b5a] \u001b[39m\u001b[92m+ LibSSH2_jll\u001b[39m\n",
      " \u001b[90m [c8ffd9c3] \u001b[39m\u001b[92m+ MbedTLS_jll\u001b[39m\n",
      " \u001b[90m [14a3606d] \u001b[39m\u001b[92m+ MozillaCACerts_jll\u001b[39m\n",
      " \u001b[90m [05823500] \u001b[39m\u001b[92m+ OpenLibm_jll\u001b[39m\n",
      " \u001b[90m [efcefdf7] \u001b[39m\u001b[92m+ PCRE2_jll\u001b[39m\n",
      " \u001b[90m [83775a58] \u001b[39m\u001b[92m+ Zlib_jll\u001b[39m\n",
      " \u001b[90m [8e850ede] \u001b[39m\u001b[92m+ nghttp2_jll\u001b[39m\n",
      " \u001b[90m [3f19e933] \u001b[39m\u001b[92m+ p7zip_jll\u001b[39m\n"
     ]
    }
   ],
   "source": [
    "import Pkg; Pkg.activate(@__DIR__); Pkg.instantiate()"
   ]
  },
  {
   "cell_type": "code",
   "execution_count": 2,
   "id": "6d4548db-8a46-4eeb-8ebc-44b4e01a763d",
   "metadata": {},
   "outputs": [
    {
     "name": "stderr",
     "output_type": "stream",
     "text": [
      "\u001b[33m\u001b[1m┌ \u001b[22m\u001b[39m\u001b[33m\u001b[1mWarning: \u001b[22m\u001b[39mReplacing docs for `SciMLBase.sol :: Union{Tuple, Tuple{D}, Tuple{S}, Tuple{N}, Tuple{T}} where {T, N, S, D}` in module `SciMLBase`\n",
      "\u001b[33m\u001b[1m└ \u001b[22m\u001b[39m\u001b[90m@ Base.Docs docs/Docs.jl:240\u001b[39m\n"
     ]
    }
   ],
   "source": [
    "using Symbolics\n",
    "using LinearAlgebra\n",
    "import ForwardDiff as FD"
   ]
  },
  {
   "cell_type": "code",
   "execution_count": 3,
   "id": "7a9c57c8-4692-4914-8277-1ddb220b66f8",
   "metadata": {},
   "outputs": [
    {
     "data": {
      "text/latex": [
       "$$ \\begin{equation}\n",
       "\\left[\n",
       "\\begin{array}{cc}\n",
       "0.16667 \\left( 0.01 \\cos\\left( x_3 + 0.05 \\left( 0.05 u_1 + x_4 \\right) \\tan\\left( 0.05 u_2 + x_5 \\right) \\right) + 0.01 \\cos\\left( x_3 + 0.05 x_4 \\tan\\left( x_5 \\right) \\right) + 0.01 \\cos\\left( x_3 + 0.1 \\left( 0.05 u_1 + x_4 \\right) \\tan\\left( 0.05 u_2 + x_5 \\right) \\right) - 0.0005 \\left( 0.05 u_1 + x_4 \\right) \\sin\\left( x_3 + 0.05 \\left( 0.05 u_1 + x_4 \\right) \\tan\\left( 0.05 u_2 + x_5 \\right) \\right) \\tan\\left( 0.05 u_2 + x_5 \\right) - 0.0005 \\left( 0.1 u_1 + x_4 \\right) \\sin\\left( x_3 + 0.1 \\left( 0.05 u_1 + x_4 \\right) \\tan\\left( 0.05 u_2 + x_5 \\right) \\right) \\tan\\left( 0.05 u_2 + x_5 \\right) \\right) & 0.16667 \\left(  - 0.0005 \\left( 0.05 u_1 + x_4 \\right)^{2} \\sin\\left( x_3 + 0.05 \\left( 0.05 u_1 + x_4 \\right) \\tan\\left( 0.05 u_2 + x_5 \\right) \\right) \\left( 1 + \\tan^{2}\\left( 0.05 u_2 + x_5 \\right) \\right) - 0.0005 \\left( 0.1 u_1 + x_4 \\right) \\left( 0.05 u_1 + x_4 \\right) \\sin\\left( x_3 + 0.1 \\left( 0.05 u_1 + x_4 \\right) \\tan\\left( 0.05 u_2 + x_5 \\right) \\right) \\left( 1 + \\tan^{2}\\left( 0.05 u_2 + x_5 \\right) \\right) \\right) \\\\\n",
       "0.16667 \\left( 0.01 \\sin\\left( x_3 + 0.05 x_4 \\tan\\left( x_5 \\right) \\right) + 0.01 \\sin\\left( x_3 + 0.05 \\left( 0.05 u_1 + x_4 \\right) \\tan\\left( 0.05 u_2 + x_5 \\right) \\right) + 0.01 \\sin\\left( x_3 + 0.1 \\left( 0.05 u_1 + x_4 \\right) \\tan\\left( 0.05 u_2 + x_5 \\right) \\right) + 0.0005 \\left( 0.05 u_1 + x_4 \\right) \\cos\\left( x_3 + 0.05 \\left( 0.05 u_1 + x_4 \\right) \\tan\\left( 0.05 u_2 + x_5 \\right) \\right) \\tan\\left( 0.05 u_2 + x_5 \\right) + 0.0005 \\left( 0.1 u_1 + x_4 \\right) \\tan\\left( 0.05 u_2 + x_5 \\right) \\cos\\left( x_3 + 0.1 \\left( 0.05 u_1 + x_4 \\right) \\tan\\left( 0.05 u_2 + x_5 \\right) \\right) \\right) & 0.16667 \\left( 0.0005 \\left( 0.05 u_1 + x_4 \\right)^{2} \\cos\\left( x_3 + 0.05 \\left( 0.05 u_1 + x_4 \\right) \\tan\\left( 0.05 u_2 + x_5 \\right) \\right) \\left( 1 + \\tan^{2}\\left( 0.05 u_2 + x_5 \\right) \\right) + 0.0005 \\left( 0.1 u_1 + x_4 \\right) \\left( 0.05 u_1 + x_4 \\right) \\left( 1 + \\tan^{2}\\left( 0.05 u_2 + x_5 \\right) \\right) \\cos\\left( x_3 + 0.1 \\left( 0.05 u_1 + x_4 \\right) \\tan\\left( 0.05 u_2 + x_5 \\right) \\right) \\right) \\\\\n",
       "0.16667 \\left( 0.01 \\tan\\left( 0.1 u_2 + x_5 \\right) + 0.02 \\tan\\left( 0.05 u_2 + x_5 \\right) \\right) & 0.16667 \\left( 0.01 \\left( 0.1 u_1 + x_4 \\right) \\left( 1 + \\tan^{2}\\left( 0.1 u_2 + x_5 \\right) \\right) + 0.02 \\left( 0.05 u_1 + x_4 \\right) \\left( 1 + \\tan^{2}\\left( 0.05 u_2 + x_5 \\right) \\right) \\right) \\\\\n",
       "0.1 & 0 \\\\\n",
       "0 & 0.1 \\\\\n",
       "\\end{array}\n",
       "\\right]\n",
       "\\end{equation}\n",
       " $$"
      ],
      "text/plain": [
       "5×2 Matrix{Num}:\n",
       " 0.166667(0.01cos(x[3] + 0.05(0.05u[1] + x[4])*tan(0.05u[2] + x[5])) + 0.01cos(x[3] + 0.05x[4]*tan(x[5])) + 0.01cos(x[3] + 0.1(0.05u[1] + x[4])*tan(0.05u[2] + x[5])) - 0.0005(0.05u[1] + x[4])*sin(x[3] + 0.05(0.05u[1] + x[4])*tan(0.05u[2] + x[5]))*tan(0.05u[2] + x[5]) - 0.0005(0.1u[1] + x[4])*sin(x[3] + 0.1(0.05u[1] + x[4])*tan(0.05u[2] + x[5]))*tan(0.05u[2] + x[5]))  …  0.166667(-0.0005((0.05u[1] + x[4])^2)*sin(x[3] + 0.05(0.05u[1] + x[4])*tan(0.05u[2] + x[5]))*(1 + tan(0.05u[2] + x[5])^2) - 0.0005(0.1u[1] + x[4])*(0.05u[1] + x[4])*sin(x[3] + 0.1(0.05u[1] + x[4])*tan(0.05u[2] + x[5]))*(1 + tan(0.05u[2] + x[5])^2))\n",
       " 0.166667(0.01sin(x[3] + 0.05x[4]*tan(x[5])) + 0.01sin(x[3] + 0.05(0.05u[1] + x[4])*tan(0.05u[2] + x[5])) + 0.01sin(x[3] + 0.1(0.05u[1] + x[4])*tan(0.05u[2] + x[5])) + 0.0005(0.05u[1] + x[4])*cos(x[3] + 0.05(0.05u[1] + x[4])*tan(0.05u[2] + x[5]))*tan(0.05u[2] + x[5]) + 0.0005(0.1u[1] + x[4])*tan(0.05u[2] + x[5])*cos(x[3] + 0.1(0.05u[1] + x[4])*tan(0.05u[2] + x[5])))     0.166667(0.0005((0.05u[1] + x[4])^2)*cos(x[3] + 0.05(0.05u[1] + x[4])*tan(0.05u[2] + x[5]))*(1 + tan(0.05u[2] + x[5])^2) + 0.0005(0.1u[1] + x[4])*(0.05u[1] + x[4])*(1 + tan(0.05u[2] + x[5])^2)*cos(x[3] + 0.1(0.05u[1] + x[4])*tan(0.05u[2] + x[5])))\n",
       " 0.166667(0.01tan(0.1u[2] + x[5]) + 0.02tan(0.05u[2] + x[5]))                                                                                                                                                                                                                                                                                                                        0.166667(0.01(0.1u[1] + x[4])*(1 + tan(0.1u[2] + x[5])^2) + 0.02(0.05u[1] + x[4])*(1 + tan(0.05u[2] + x[5])^2))\n",
       " 0.1                                                                                                                                                                                                                                                                                                                                                                                 0\n",
       " 0                                                                                                                                                                                                                                                                                                                                                                                   0.1"
      ]
     },
     "metadata": {},
     "output_type": "display_data"
    }
   ],
   "source": [
    "# ====================\n",
    "# Explicit model params (working)\n",
    "# ====================\n",
    "@variables x[1:5] u[1:2] \n",
    "x = collect(x); u = collect(u)\n",
    "x0 = [    19.4 ;\n",
    "    19.5 ;\n",
    "   0.676 ;\n",
    "    1.51 ;\n",
    "   0.175 ]; u0 = [   -1.35 ;\n",
    " -0.0615 ]\n",
    "# Second-order Bicycle Dynamics\n",
    "function dynamics(x, u)\n",
    "    a_in = u[1]  # longitudinal acceleration \n",
    "    ϕ_in = u[2]  # steering angle rate    \n",
    "\n",
    "    θ = x[3]  # yaw\n",
    "    v = x[4]  # steering angle\n",
    "    δ = x[5]\n",
    "\n",
    "    c = cos(θ)\n",
    "    s = sin(θ)\n",
    "\n",
    "    ẋ = v*c\n",
    "    ẏ = v*s\n",
    "    θ̇ = v*tan(δ)\n",
    "    v̇ = a_in\n",
    "    δ̇ = ϕ_in  # = u2\n",
    "    return [ẋ, ẏ, θ̇, v̇, δ̇]\n",
    "end\n",
    "function rk4(x, u)\n",
    "    dt = 0.1\n",
    "    k1 = dt*dynamics(x, u)\n",
    "    k2 = dt*dynamics(x + k1/2, u)\n",
    "    k3 = dt*dynamics(x + k2/2, u)\n",
    "    k4 = dt*dynamics(x + k3, u)\n",
    "    x + (1/6)*(k1 + 2*k2 + 2*k3 + k4)\n",
    "end\n",
    "function midpoint(x, u)\n",
    "    dt = 0.1\n",
    "    k1 = dt*dynamics(x, u)\n",
    "    k2 = dt*dynamics(x + k1/2, u)\n",
    "    x += k2\n",
    "end\n",
    "\n",
    "sym_jac_A = Symbolics.jacobian(rk4(x, u), x)\n",
    "sym_jac_B = Symbolics.jacobian(rk4(x, u), u)\n",
    "# Sub value to validate with ForwardDiff\n",
    "# sub_dict = Dict()\n",
    "# [sub_dict[x] = y for (x,y) in zip([x; u], [x0; u0])]\n",
    "# val_jac_A = substitute.(sym_jac_A, (sub_dict,))\n",
    "# val_jac_B = substitute.(sym_jac_B, (sub_dict,))\n",
    "# fd_jac_A = FD.jacobian(_x->rk4(_x, u0), x0)\n",
    "# fd_jac_B = FD.jacobian(_u->rk4(x0, _u), u0)\n",
    "# display(norm(fd_jac_A - val_jac_A) + norm(fd_jac_B - val_jac_B))\n",
    "# display(val_jac_A)\n",
    "# display(val_jac_B)"
   ]
  },
  {
   "cell_type": "code",
   "execution_count": 4,
   "id": "6c628217-15ae-4837-970c-71178b07b875",
   "metadata": {},
   "outputs": [],
   "source": [
    "# ====================\n",
    "# Generate C code for jacobians\n",
    "# ====================\n",
    "fA = build_function(sym_jac_A, x, u; target=Symbolics.CTarget(), \n",
    "    fname = :tiny_GetJacobianA_Raw, lhsname=:A, rhsnames=[Symbol(\"x\"), Symbol(\"u\")]);\n",
    "\n",
    "open(\"functionA.txt\",\"a\") do io\n",
    "        println(io, fA)\n",
    "end\n",
    "\n",
    "fB = build_function(sym_jac_B, x, u; target=Symbolics.CTarget(), \n",
    "    fname = :tiny_GetJacobianB_Raw, lhsname=:B, rhsnames=[Symbol(\"x\"), Symbol(\"u\")]);\n",
    "\n",
    "open(\"functionB.txt\",\"a\") do io\n",
    "        println(io, fB)\n",
    "end"
   ]
  },
  {
   "cell_type": "code",
   "execution_count": 5,
   "id": "e070ad32-8f19-40e3-99ac-ae4abf9c7423",
   "metadata": {},
   "outputs": [],
   "source": [
    "# ====================\n",
    "# Generate C code for dynamics\n",
    "# ====================\n",
    "dynamics_rk4_ = rk4(x ,u)\n",
    "dynamics_rk4 = build_function(dynamics_rk4_, x, u; target=Symbolics.CTarget(), \n",
    "    fname = :tiny_Dynamics_RK4_Raw, lhsname=:xn, rhsnames=[Symbol(\"x\"), Symbol(\"u\")])\n",
    "open(\"dynamics_rk4.txt\",\"a\") do io\n",
    "        println(io, dynamics_rk4)\n",
    "end"
   ]
  },
  {
   "attachments": {},
   "cell_type": "markdown",
   "id": "638cab66",
   "metadata": {},
   "source": [
    "# This takes reference trajectory data from `.txt` files and print to C files"
   ]
  },
  {
   "cell_type": "code",
   "execution_count": 6,
   "id": "5d871303",
   "metadata": {},
   "outputs": [
    {
     "data": {
      "text/plain": [
       "export_vec_of_mat_to_c (generic function with 1 method)"
      ]
     },
     "metadata": {},
     "output_type": "display_data"
    }
   ],
   "source": [
    "# Export a vector of vectors to C header and source \n",
    "function export_vec_of_vec_to_c(filename, var_type, var_name, data)\n",
    "    size = length(data)*length(data[1])\n",
    "    declare = var_type * \" \" * var_name * \"[\" * string(size) * \"]\"\n",
    "    def = declare * \" = {\\n\"\n",
    "    for i=1:length(data)\n",
    "        def = def * \"  \"\n",
    "        for j=1:length(data[1])\n",
    "            def = def * string(data[i][j])\n",
    "            if j < length(data[1]) \n",
    "                def = def * \",\"\n",
    "            end\n",
    "        end\n",
    "        if i < length(data)\n",
    "            def = def * \",\\n\"\n",
    "        end\n",
    "    end\n",
    "    def = def*\"}\"\n",
    "\n",
    "    open(filename*\".h\",\"a\") do io\n",
    "            println(io, def * \";\\n\")\n",
    "    end\n",
    "    # open(filename*\".c\",\"a\") do io\n",
    "    #         println(io, def * \";\\n\")\n",
    "    # end\n",
    "    return true\n",
    "end\n",
    "# Export a vector of matrix to C header and source (column-based)\n",
    "function export_vec_of_mat_to_c(filename, var_type, var_name, data)\n",
    "    size = length(data)*length(data[1])\n",
    "    declare = var_type * \" \" * var_name * \"[\" * string(size) * \"]\"\n",
    "    def = declare * \" = {\\n\"\n",
    "    for i=1:length(data)\n",
    "        def = def * \"  \"\n",
    "        vdata = vcat(data[i]...)\n",
    "        for j=1:length(data[1])\n",
    "            def = def * string(vdata[j])\n",
    "            if j < length(data[1]) \n",
    "                def = def * \",\"\n",
    "            end\n",
    "        end\n",
    "        if i < length(data)\n",
    "            def = def * \",\\n\"\n",
    "        end\n",
    "    end\n",
    "    def = def*\"}\"\n",
    "\n",
    "    open(filename*\".h\",\"a\") do io\n",
    "            println(io, def * \";\\n\")\n",
    "    end\n",
    "    # open(filename*\".c\",\"a\") do io\n",
    "    #         println(io, def * \";\\n\")\n",
    "    # end\n",
    "    return true\n",
    "end"
   ]
  },
  {
   "cell_type": "code",
   "execution_count": 7,
   "id": "8b72dd56",
   "metadata": {},
   "outputs": [
    {
     "data": {
      "text/plain": [
       "true"
      ]
     },
     "metadata": {},
     "output_type": "display_data"
    }
   ],
   "source": [
    "Nt = 101\n",
    "nx = 5\n",
    "nu = 2\n",
    "using DelimitedFiles\n",
    "uref1 = readdlm(\"uref_data.txt\")\n",
    "uref1 = reshape(uref1, nu, Nt-1)\n",
    "xref1 = readdlm(\"xref_data.txt\")\n",
    "xref1 = reshape(xref1, nx, Nt)\n",
    "uref = [uref1[1:nu, i] for i = 1:(Nt-1)]\n",
    "xref = [xref1[1:nx, i] for i = 1:Nt];\n",
    "\n",
    "export_vec_of_vec_to_c(\"al_lqr_ltv_data\", \"sfloat\", \"Xref_data\", xref)\n",
    "export_vec_of_vec_to_c(\"al_lqr_ltv_data\", \"sfloat\", \"Uref_data\", uref)\n",
    "# This prints to `al_lqr_ltv_data.h`"
   ]
  }
 ],
 "metadata": {
  "kernelspec": {
   "display_name": "Julia 1.6.7",
   "language": "julia",
   "name": "julia-1.6"
  },
  "language_info": {
   "file_extension": ".jl",
   "mimetype": "application/julia",
   "name": "julia",
   "version": "1.6.7"
  }
 },
 "nbformat": 4,
 "nbformat_minor": 5
}
