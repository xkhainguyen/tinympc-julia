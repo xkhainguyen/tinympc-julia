{
 "cells": [
  {
   "attachments": {},
   "cell_type": "markdown",
   "id": "7ced07ad",
   "metadata": {},
   "source": [
    "# This script shows how to formulate nonlinear bicycle model (5 states, 2 inputs) and find analytical Jacobians (Ak and Bk for TVLQR) with `Symbolics.jl`"
   ]
  },
  {
   "cell_type": "code",
   "execution_count": 1,
   "id": "c943da45-a7ca-4efd-9a20-798c23f0babb",
   "metadata": {},
   "outputs": [
    {
     "name": "stderr",
     "output_type": "stream",
     "text": [
      "\u001b[32m\u001b[1m  Activating\u001b[22m\u001b[39m environment at `~/SSD/Code/Julia/tinympc-julia-old/bicycle_tvlqr/Project.toml`\n"
     ]
    }
   ],
   "source": [
    "import Pkg; Pkg.activate(@__DIR__); Pkg.instantiate()"
   ]
  },
  {
   "cell_type": "code",
   "execution_count": 2,
   "id": "6d4548db-8a46-4eeb-8ebc-44b4e01a763d",
   "metadata": {},
   "outputs": [],
   "source": [
    "using Symbolics\n",
    "using LinearAlgebra\n",
    "import ForwardDiff as FD"
   ]
  },
  {
   "cell_type": "code",
   "execution_count": 3,
   "id": "7a9c57c8-4692-4914-8277-1ddb220b66f8",
   "metadata": {},
   "outputs": [
    {
     "data": {
      "text/latex": [
       "$$ \\begin{equation}\n",
       "\\left[\n",
       "\\begin{array}{cc}\n",
       "0.16666666666666666 \\left( 0.010000000000000002 \\cos\\left( 0.05 \\left( 0.05 u_1 + x_4 \\right) \\tan\\left( 0.05 u_2 + x_5 \\right) + x_3 \\right) + 0.010000000000000002 \\cos\\left( 0.05 \\tan\\left( x_5 \\right) x_4 + x_3 \\right) + 0.010000000000000002 \\cos\\left( 0.1 \\left( 0.05 u_1 + x_4 \\right) \\tan\\left( 0.05 u_2 + x_5 \\right) + x_3 \\right) - 0.0005000000000000001 \\left( 0.05 u_1 + x_4 \\right) \\tan\\left( 0.05 u_2 + x_5 \\right) \\sin\\left( 0.05 \\left( 0.05 u_1 + x_4 \\right) \\tan\\left( 0.05 u_2 + x_5 \\right) + x_3 \\right) - 0.0005000000000000001 \\left( 0.1 u_1 + x_4 \\right) \\tan\\left( 0.05 u_2 + x_5 \\right) \\sin\\left( 0.1 \\left( 0.05 u_1 + x_4 \\right) \\tan\\left( 0.05 u_2 + x_5 \\right) + x_3 \\right) \\right) & 0.16666666666666666 \\left(  - 0.0005000000000000001 \\left( 0.05 u_1 + x_4 \\right)^{2} \\left( 1 + \\tan^{2}\\left( 0.05 u_2 + x_5 \\right) \\right) \\sin\\left( 0.05 \\left( 0.05 u_1 + x_4 \\right) \\tan\\left( 0.05 u_2 + x_5 \\right) + x_3 \\right) - 0.0005000000000000001 \\left( 1 + \\tan^{2}\\left( 0.05 u_2 + x_5 \\right) \\right) \\left( 0.05 u_1 + x_4 \\right) \\left( 0.1 u_1 + x_4 \\right) \\sin\\left( 0.1 \\left( 0.05 u_1 + x_4 \\right) \\tan\\left( 0.05 u_2 + x_5 \\right) + x_3 \\right) \\right) \\\\\n",
       "0.16666666666666666 \\left( 0.010000000000000002 \\sin\\left( 0.05 \\left( 0.05 u_1 + x_4 \\right) \\tan\\left( 0.05 u_2 + x_5 \\right) + x_3 \\right) + 0.010000000000000002 \\sin\\left( 0.05 \\tan\\left( x_5 \\right) x_4 + x_3 \\right) + 0.010000000000000002 \\sin\\left( 0.1 \\left( 0.05 u_1 + x_4 \\right) \\tan\\left( 0.05 u_2 + x_5 \\right) + x_3 \\right) + 0.0005000000000000001 \\left( 0.1 u_1 + x_4 \\right) \\tan\\left( 0.05 u_2 + x_5 \\right) \\cos\\left( 0.1 \\left( 0.05 u_1 + x_4 \\right) \\tan\\left( 0.05 u_2 + x_5 \\right) + x_3 \\right) + 0.0005000000000000001 \\left( 0.05 u_1 + x_4 \\right) \\cos\\left( 0.05 \\left( 0.05 u_1 + x_4 \\right) \\tan\\left( 0.05 u_2 + x_5 \\right) + x_3 \\right) \\tan\\left( 0.05 u_2 + x_5 \\right) \\right) & 0.16666666666666666 \\left( 0.0005000000000000001 \\left( 0.05 u_1 + x_4 \\right)^{2} \\left( 1 + \\tan^{2}\\left( 0.05 u_2 + x_5 \\right) \\right) \\cos\\left( 0.05 \\left( 0.05 u_1 + x_4 \\right) \\tan\\left( 0.05 u_2 + x_5 \\right) + x_3 \\right) + 0.0005000000000000001 \\left( 1 + \\tan^{2}\\left( 0.05 u_2 + x_5 \\right) \\right) \\left( 0.05 u_1 + x_4 \\right) \\left( 0.1 u_1 + x_4 \\right) \\cos\\left( 0.1 \\left( 0.05 u_1 + x_4 \\right) \\tan\\left( 0.05 u_2 + x_5 \\right) + x_3 \\right) \\right) \\\\\n",
       "0.16666666666666666 \\left( 0.020000000000000004 \\tan\\left( 0.05 u_2 + x_5 \\right) + 0.010000000000000002 \\tan\\left( 0.1 u_2 + x_5 \\right) \\right) & 0.16666666666666666 \\left( 0.010000000000000002 \\left( 1 + \\tan^{2}\\left( 0.1 u_2 + x_5 \\right) \\right) \\left( 0.1 u_1 + x_4 \\right) + 0.020000000000000004 \\left( 1 + \\tan^{2}\\left( 0.05 u_2 + x_5 \\right) \\right) \\left( 0.05 u_1 + x_4 \\right) \\right) \\\\\n",
       "0.09999999999999999 & 0 \\\\\n",
       "0 & 0.09999999999999999 \\\\\n",
       "\\end{array}\n",
       "\\right]\n",
       "\\end{equation}\n",
       " $$"
      ],
      "text/plain": [
       "5×2 Matrix{Num}:\n",
       " 0.166667(0.01cos(0.05(0.05u[1] + x[4])*tan(0.05u[2] + x[5]) + x[3]) + 0.01cos(0.05tan(x[5])*x[4] + x[3]) + 0.01cos(0.1(0.05u[1] + x[4])*tan(0.05u[2] + x[5]) + x[3]) - 0.0005(0.05u[1] + x[4])*tan(0.05u[2] + x[5])*sin(0.05(0.05u[1] + x[4])*tan(0.05u[2] + x[5]) + x[3]) - 0.0005(0.1u[1] + x[4])*tan(0.05u[2] + x[5])*sin(0.1(0.05u[1] + x[4])*tan(0.05u[2] + x[5]) + x[3]))  …  0.166667(-0.0005((0.05u[1] + x[4])^2)*(1 + tan(0.05u[2] + x[5])^2)*sin(0.05(0.05u[1] + x[4])*tan(0.05u[2] + x[5]) + x[3]) - 0.0005(1 + tan(0.05u[2] + x[5])^2)*(0.05u[1] + x[4])*(0.1u[1] + x[4])*sin(0.1(0.05u[1] + x[4])*tan(0.05u[2] + x[5]) + x[3]))\n",
       " 0.166667(0.01sin(0.05(0.05u[1] + x[4])*tan(0.05u[2] + x[5]) + x[3]) + 0.01sin(0.05tan(x[5])*x[4] + x[3]) + 0.01sin(0.1(0.05u[1] + x[4])*tan(0.05u[2] + x[5]) + x[3]) + 0.0005(0.1u[1] + x[4])*tan(0.05u[2] + x[5])*cos(0.1(0.05u[1] + x[4])*tan(0.05u[2] + x[5]) + x[3]) + 0.0005(0.05u[1] + x[4])*cos(0.05(0.05u[1] + x[4])*tan(0.05u[2] + x[5]) + x[3])*tan(0.05u[2] + x[5]))     0.166667(0.0005((0.05u[1] + x[4])^2)*(1 + tan(0.05u[2] + x[5])^2)*cos(0.05(0.05u[1] + x[4])*tan(0.05u[2] + x[5]) + x[3]) + 0.0005(1 + tan(0.05u[2] + x[5])^2)*(0.05u[1] + x[4])*(0.1u[1] + x[4])*cos(0.1(0.05u[1] + x[4])*tan(0.05u[2] + x[5]) + x[3]))\n",
       " 0.166667(0.02tan(0.05u[2] + x[5]) + 0.01tan(0.1u[2] + x[5]))                                                                                                                                                                                                                                                                                                                        0.166667(0.01(1 + tan(0.1u[2] + x[5])^2)*(0.1u[1] + x[4]) + 0.02(1 + tan(0.05u[2] + x[5])^2)*(0.05u[1] + x[4]))\n",
       " 0.1                                                                                                                                                                                                                                                                                                                                                                                 0\n",
       " 0                                                                                                                                                                                                                                                                                                                                                                                   0.1"
      ]
     },
     "metadata": {},
     "output_type": "display_data"
    }
   ],
   "source": [
    "# ====================\n",
    "# Explicit model params (working)\n",
    "# ====================\n",
    "@variables x[1:5] u[1:2] \n",
    "x = collect(x); u = collect(u)\n",
    "x0 = [    19.4 ;\n",
    "    19.5 ;\n",
    "   0.676 ;\n",
    "    1.51 ;\n",
    "   0.175 ]; u0 = [   -1.35 ;\n",
    " -0.0615 ]\n",
    "# Second-order Bicycle Dynamics\n",
    "function dynamics(x, u)\n",
    "    a_in = u[1]  # longitudinal acceleration \n",
    "    ϕ_in = u[2]  # steering angle rate    \n",
    "\n",
    "    θ = x[3]  # yaw\n",
    "    v = x[4]  # steering angle\n",
    "    δ = x[5]\n",
    "\n",
    "    c = cos(θ)\n",
    "    s = sin(θ)\n",
    "\n",
    "    ẋ = v*c\n",
    "    ẏ = v*s\n",
    "    θ̇ = v*tan(δ)\n",
    "    v̇ = a_in\n",
    "    δ̇ = ϕ_in  # = u2\n",
    "    return [ẋ, ẏ, θ̇, v̇, δ̇]\n",
    "end\n",
    "function rk4(x, u)\n",
    "    dt = 0.1\n",
    "    k1 = dt*dynamics(x, u)\n",
    "    k2 = dt*dynamics(x + k1/2, u)\n",
    "    k3 = dt*dynamics(x + k2/2, u)\n",
    "    k4 = dt*dynamics(x + k3, u)\n",
    "    x + (1/6)*(k1 + 2*k2 + 2*k3 + k4)\n",
    "end\n",
    "function midpoint(x, u)\n",
    "    dt = 0.1\n",
    "    k1 = dt*dynamics(x, u)\n",
    "    k2 = dt*dynamics(x + k1/2, u)\n",
    "    x += k2\n",
    "end\n",
    "\n",
    "sym_jac_A = Symbolics.jacobian(rk4(x, u), x)\n",
    "sym_jac_B = Symbolics.jacobian(rk4(x, u), u)\n",
    "# Sub value to validate with ForwardDiff\n",
    "# sub_dict = Dict()\n",
    "# [sub_dict[x] = y for (x,y) in zip([x; u], [x0; u0])]\n",
    "# val_jac_A = substitute.(sym_jac_A, (sub_dict,))\n",
    "# val_jac_B = substitute.(sym_jac_B, (sub_dict,))\n",
    "# fd_jac_A = FD.jacobian(_x->rk4(_x, u0), x0)\n",
    "# fd_jac_B = FD.jacobian(_u->rk4(x0, _u), u0)\n",
    "# display(norm(fd_jac_A - val_jac_A) + norm(fd_jac_B - val_jac_B))\n",
    "# display(val_jac_A)\n",
    "# display(val_jac_B)"
   ]
  },
  {
   "cell_type": "code",
   "execution_count": 4,
   "id": "6c628217-15ae-4837-970c-71178b07b875",
   "metadata": {},
   "outputs": [],
   "source": [
    "# ====================\n",
    "# Generate C code for jacobians\n",
    "# ====================\n",
    "fA = build_function(sym_jac_A, x, u; target=Symbolics.CTarget(), \n",
    "    fname = :tiny_GetJacobianA_Raw, lhsname=:A, rhsnames=[Symbol(\"x\"), Symbol(\"u\")]);\n",
    "\n",
    "open(\"functionA.txt\",\"a\") do io\n",
    "        println(io, fA)\n",
    "end\n",
    "\n",
    "fB = build_function(sym_jac_B, x, u; target=Symbolics.CTarget(), \n",
    "    fname = :tiny_GetJacobianB_Raw, lhsname=:B, rhsnames=[Symbol(\"x\"), Symbol(\"u\")]);\n",
    "\n",
    "open(\"functionB.txt\",\"a\") do io\n",
    "        println(io, fB)\n",
    "end"
   ]
  },
  {
   "cell_type": "code",
   "execution_count": 5,
   "id": "e070ad32-8f19-40e3-99ac-ae4abf9c7423",
   "metadata": {},
   "outputs": [],
   "source": [
    "# ====================\n",
    "# Generate C code for dynamics\n",
    "# ====================\n",
    "dynamics_rk4_ = rk4(x ,u)\n",
    "dynamics_rk4 = build_function(dynamics_rk4_, x, u; target=Symbolics.CTarget(), \n",
    "    fname = :tiny_Dynamics_RK4_Raw, lhsname=:xn, rhsnames=[Symbol(\"x\"), Symbol(\"u\")])\n",
    "open(\"dynamics_rk4.txt\",\"a\") do io\n",
    "        println(io, dynamics_rk4)\n",
    "end"
   ]
  },
  {
   "attachments": {},
   "cell_type": "markdown",
   "id": "638cab66",
   "metadata": {},
   "source": [
    "# This takes reference trajectory data from `.txt` files and print to C files"
   ]
  },
  {
   "cell_type": "code",
   "execution_count": 6,
   "id": "5d871303",
   "metadata": {},
   "outputs": [
    {
     "data": {
      "text/plain": [
       "export_vec_of_mat_to_c (generic function with 1 method)"
      ]
     },
     "metadata": {},
     "output_type": "display_data"
    }
   ],
   "source": [
    "# Export a vector of vectors to C header and source \n",
    "function export_vec_of_vec_to_c(filename, var_type, var_name, data)\n",
    "    size = length(data)*length(data[1])\n",
    "    declare = var_type * \" \" * var_name * \"[\" * string(size) * \"]\"\n",
    "    def = declare * \" = {\\n\"\n",
    "    for i=1:length(data)\n",
    "        def = def * \"  \"\n",
    "        for j=1:length(data[1])\n",
    "            def = def * string(data[i][j])\n",
    "            if j < length(data[1]) \n",
    "                def = def * \",\"\n",
    "            end\n",
    "        end\n",
    "        if i < length(data)\n",
    "            def = def * \",\\n\"\n",
    "        end\n",
    "    end\n",
    "    def = def*\"}\"\n",
    "\n",
    "    open(filename*\".h\",\"a\") do io\n",
    "            println(io, def * \";\\n\")\n",
    "    end\n",
    "    # open(filename*\".c\",\"a\") do io\n",
    "    #         println(io, def * \";\\n\")\n",
    "    # end\n",
    "    return true\n",
    "end\n",
    "# Export a vector of matrix to C header and source (column-based)\n",
    "function export_vec_of_mat_to_c(filename, var_type, var_name, data)\n",
    "    size = length(data)*length(data[1])\n",
    "    declare = var_type * \" \" * var_name * \"[\" * string(size) * \"]\"\n",
    "    def = declare * \" = {\\n\"\n",
    "    for i=1:length(data)\n",
    "        def = def * \"  \"\n",
    "        vdata = vcat(data[i]...)\n",
    "        for j=1:length(data[1])\n",
    "            def = def * string(vdata[j])\n",
    "            if j < length(data[1]) \n",
    "                def = def * \",\"\n",
    "            end\n",
    "        end\n",
    "        if i < length(data)\n",
    "            def = def * \",\\n\"\n",
    "        end\n",
    "    end\n",
    "    def = def*\"}\"\n",
    "\n",
    "    open(filename*\".h\",\"a\") do io\n",
    "            println(io, def * \";\\n\")\n",
    "    end\n",
    "    # open(filename*\".c\",\"a\") do io\n",
    "    #         println(io, def * \";\\n\")\n",
    "    # end\n",
    "    return true\n",
    "end"
   ]
  },
  {
   "cell_type": "code",
   "execution_count": 8,
   "id": "8b72dd56",
   "metadata": {},
   "outputs": [
    {
     "data": {
      "text/plain": [
       "true"
      ]
     },
     "metadata": {},
     "output_type": "display_data"
    }
   ],
   "source": [
    "Nt = 101\n",
    "nx = 5\n",
    "nu = 2\n",
    "using DelimitedFiles\n",
    "uref1 = readdlm(\"uref_data.txt\")\n",
    "uref1 = reshape(uref1, nu, Nt-1)\n",
    "xref1 = readdlm(\"xref_data.txt\")\n",
    "xref1 = reshape(xref1, nx, Nt)\n",
    "uref = [uref1[1:nu, i] for i = 1:(Nt-1)]\n",
    "xref = [xref1[1:nx, i] for i = 1:Nt];\n",
    "\n",
    "export_vec_of_vec_to_c(\"al_lqr_ltv_data\", \"sfloat\", \"Xref_data\", xref)\n",
    "export_vec_of_vec_to_c(\"al_lqr_ltv_data\", \"sfloat\", \"Uref_data\", uref)\n",
    "# This prints to `al_lqr_ltv_data.h`"
   ]
  }
 ],
 "metadata": {
  "kernelspec": {
   "display_name": "Julia 1.6.7",
   "language": "julia",
   "name": "julia-1.6"
  },
  "language_info": {
   "file_extension": ".jl",
   "mimetype": "application/julia",
   "name": "julia",
   "version": "1.6.7"
  }
 },
 "nbformat": 4,
 "nbformat_minor": 5
}
