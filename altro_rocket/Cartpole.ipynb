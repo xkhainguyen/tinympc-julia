{
 "cells": [
  {
   "cell_type": "markdown",
   "metadata": {},
   "source": [
    "# Cartpole Example\n",
    "This notebook goes over the process of setting up and solving a trajectory optimization problem using multiple solvers.\n",
    "\n",
    "## Loading the Required Packages\n",
    "To set up the problem, we import `TrajectoryOptimization`, along with `StaticArrays` and `LinearAlgebra` to help in the set up.\n",
    "\n",
    "To keep things simple, we use the cartpole model from the [`RobotZoo`](https://github.com/bjack205/RobotZoo.jl) package."
   ]
  },
  {
   "cell_type": "code",
   "execution_count": 26,
   "metadata": {},
   "outputs": [
    {
     "name": "stderr",
     "output_type": "stream",
     "text": [
      "\u001b[32m\u001b[1m  Activating\u001b[22m\u001b[39m environment at `~/SSD/Code/Julia/tinympc-julia-old/altro_rocket/Project.toml`\n"
     ]
    }
   ],
   "source": [
    "import Pkg; Pkg.activate(@__DIR__); Pkg.instantiate();\n",
    "using TrajectoryOptimization\n",
    "using RobotDynamics\n",
    "import RobotZoo.Cartpole\n",
    "using StaticArrays, LinearAlgebra"
   ]
  },
  {
   "cell_type": "code",
   "execution_count": 27,
   "metadata": {},
   "outputs": [],
   "source": [
    "import RobotZoo.Pendulum"
   ]
  },
  {
   "cell_type": "markdown",
   "metadata": {},
   "source": [
    "### Load the model\n",
    "Here we instantiate our model, which is a sub-type of `AbstractModel`, and extract out the state dimension `n` and control dimension `m`."
   ]
  },
  {
   "cell_type": "code",
   "execution_count": 28,
   "metadata": {},
   "outputs": [],
   "source": [
    "model = Pendulum(mass=1., len=1, b=0, lc=1, I=0.25, g=10.)\n",
    "n,m = size(model);"
   ]
  },
  {
   "cell_type": "markdown",
   "metadata": {},
   "source": [
    "### Define the model discretization\n",
    "We now define how we will discretize our model time. Here we choose to solve a problem with 5 second horizon and use 101 knotpoints, for a uniform time step of 0.05 seconds."
   ]
  },
  {
   "cell_type": "code",
   "execution_count": 29,
   "metadata": {},
   "outputs": [
    {
     "data": {
      "text/plain": [
       "0.05"
      ]
     },
     "metadata": {},
     "output_type": "display_data"
    }
   ],
   "source": [
    "N = 101\n",
    "tf = 5.\n",
    "dt = tf/(N-1)"
   ]
  },
  {
   "cell_type": "markdown",
   "metadata": {},
   "source": [
    "### Set initial and final state\n",
    "All trajectory optimization problems require an initial condition (it will be assumed to be the origin if not passed to the problem constructor). The final state is not be required, and could be replaced with constraints on the terminal state, in practice. Here we want the cartpole to start with the pendulum hanging down and then swing up. Note that we use `SVector`s here, but the constructor will automatically convert normal vectors, as well."
   ]
  },
  {
   "cell_type": "code",
   "execution_count": 30,
   "metadata": {},
   "outputs": [],
   "source": [
    "x0 = @SVector zeros(n)\n",
    "# xf = @SVector [0, pi, 0, 0];  # i.e. swing up\n",
    "xf = @SVector [-pi, 0];  # i.e. swing up"
   ]
  },
  {
   "cell_type": "markdown",
   "metadata": {},
   "source": [
    "### Define the Objective\n",
    "Here we define a simple LQR tracking objective:\n",
    "$$ \\frac{1}{2} (x_N - x_f)^T Q_f (x_N - x_f) +  \\frac{1}{2} \\sum_{k=0}^{N-1} (x_k - x_f)^T Q_k (x_k - x_f) + (u_k - u_f)^T R_k (u_k - u_f) $$\n",
    "\n",
    "Here it is very important to use the `Diagonal` and `SVector` constructors, since this will have a significant impact on performance. To create the objective, we use the convenient `LQRObjective` method."
   ]
  },
  {
   "cell_type": "code",
   "execution_count": 31,
   "metadata": {},
   "outputs": [],
   "source": [
    "# Set up\n",
    "Q = 1.0e-2*Diagonal(@SVector ones(n))\n",
    "Qf = 100.0*Diagonal(@SVector ones(n))\n",
    "R = 1.0e-1*Diagonal(@SVector ones(m))\n",
    "obj = LQRObjective(Q,R,Qf,xf,N);"
   ]
  },
  {
   "cell_type": "markdown",
   "metadata": {},
   "source": [
    "### Define Constraints\n",
    "We now add constraints to our problem. We place simple bounds on the controls and make the goal state and hard constraint. Note that we first create an empty `ConstraintList`, then create the individual constraints, and finally add the constraints to the list, specifying the knot point indicies to which the constraint applies. Since we don't have controls at the final knot point, we set the indices to `1:N-1`."
   ]
  },
  {
   "cell_type": "code",
   "execution_count": 32,
   "metadata": {},
   "outputs": [
    {
     "data": {
      "text/plain": [
       "GoalConstraint{2, Float64}(2, [-3.141592653589793, 0.0], [1, 2])"
      ]
     },
     "metadata": {},
     "output_type": "display_data"
    }
   ],
   "source": [
    "# Create Empty ConstraintList\n",
    "conSet = ConstraintList(n,m,N)\n",
    "\n",
    "# Control Bounds\n",
    "u_bnd = 4.0\n",
    "bnd = BoundConstraint(n,m, u_min=-u_bnd, u_max=u_bnd)\n",
    "add_constraint!(conSet, bnd, 1:N-1)\n",
    "\n",
    "# Goal Constraint\n",
    "goal = GoalConstraint(xf)\n",
    "# add_constraint!(conSet, goal, N)"
   ]
  },
  {
   "cell_type": "markdown",
   "metadata": {},
   "source": [
    "### Define the problem\n",
    "We now pass all the required information to the `Problem` constructor to define our problem"
   ]
  },
  {
   "cell_type": "code",
   "execution_count": 33,
   "metadata": {},
   "outputs": [],
   "source": [
    "prob = Problem(model, obj, x0, tf, xf=xf, constraints=conSet);"
   ]
  },
  {
   "cell_type": "markdown",
   "metadata": {},
   "source": [
    "### Initialization\n",
    "As is standard for all non-convex optimization problems, initialization is very important. If a good guess isn't available, it is usually best to initialize the system will a set of controls that keep the state bounded or constant. It is often useful to perturb the system slightly, and provide a dynamicall feasible state trajectory. Here we initialize the system will near-zero controls and then simulate the system forward with the `rollout!` method to provide the initial state guess."
   ]
  },
  {
   "cell_type": "code",
   "execution_count": null,
   "metadata": {},
   "outputs": [],
   "source": [
    "u0 = @SVector fill(0.01,m)\n",
    "U0 = [u0 for k = 1:N-1]\n",
    "initial_controls!(prob, U0)\n",
    "rollout!(prob);"
   ]
  },
  {
   "cell_type": "markdown",
   "metadata": {},
   "source": [
    "## Solving with ALTRO\n",
    "Now that the problem is defined, we can use any of the supported solvers to solve the problem. Here we use [`Altro.jl`](https://github.com/RoboticExplorationLab/ALTRO.jl), a very fast specialized solver that uses iterative LQR (iLQR) within an augmented Lagrangrian framework to handle the constraints."
   ]
  },
  {
   "cell_type": "code",
   "execution_count": null,
   "metadata": {},
   "outputs": [],
   "source": [
    "using Altro\n",
    "opts = SolverOptions(\n",
    "    cost_tolerance_intermediate=1e-2,\n",
    "    penalty_scaling=10.,\n",
    "    penalty_initial=1.0\n",
    ")\n",
    "\n",
    "altro = ALTROSolver(prob, opts)\n",
    "set_options!(altro, show_summary=true)\n",
    "solve!(altro);"
   ]
  },
  {
   "cell_type": "markdown",
   "metadata": {},
   "source": [
    "We can retrive some basic information about the solve for post-analysis,"
   ]
  },
  {
   "cell_type": "code",
   "execution_count": null,
   "metadata": {},
   "outputs": [],
   "source": [
    "println(\"max_violation: \", max_violation(altro))\n",
    "println(\"cost:          \", cost(altro))\n",
    "println(\"iterations:    \", iterations(altro));"
   ]
  },
  {
   "cell_type": "markdown",
   "metadata": {},
   "source": [
    "and extract the solution from either `prob` or `altro` using `states` and `controls`."
   ]
  },
  {
   "cell_type": "code",
   "execution_count": null,
   "metadata": {},
   "outputs": [],
   "source": [
    "# Extract the solution\n",
    "X = states(altro)\n",
    "U = controls(altro)"
   ]
  },
  {
   "cell_type": "markdown",
   "metadata": {},
   "source": [
    "These functions return vectors of vectors. If you want to convert them to 2D arrays, simply use `hcat`. If `n`, `m`, or `N` are large, it's usually a good idea to convert it to a standard Julia `Vector` before concatenation."
   ]
  },
  {
   "cell_type": "code",
   "execution_count": null,
   "metadata": {},
   "outputs": [],
   "source": [
    "using Plots\n",
    "Un = hcat(Vector.(U)...)\n",
    "Xn = hcat(Vector.(X)...)\n",
    "t_vec = range(0,tf,length=N)\n",
    "display(plot(t_vec,Xn',label = [\"x₁\" \"x₂\" \"ẋ₁\" \"ẋ₂\"],linestyle=[:solid :solid :solid :dash :dash :dash],\n",
    "             title = \"State History\",\n",
    "             xlabel = \"time (s)\", ylabel = \"x\"))\n",
    "display(plot(t_vec[1:end-1],Un',label = [\"u₁\" \"u₂\" \"u₃\"],\n",
    "             title = \"Input History\",\n",
    "             xlabel = \"time (s)\", ylabel = \"u\"))"
   ]
  },
  {
   "cell_type": "markdown",
   "metadata": {},
   "source": [
    "## Solving with iLQR\n",
    "If we want to solve the unconstrained problem with iLQR, we simply reset our initial guess and create a new solver:"
   ]
  },
  {
   "cell_type": "code",
   "execution_count": null,
   "metadata": {},
   "outputs": [],
   "source": [
    "ilqr = Altro.iLQRSolver(prob, opts)\n",
    "initial_controls!(ilqr, U0)\n",
    "solve!(ilqr);"
   ]
  },
  {
   "cell_type": "markdown",
   "metadata": {},
   "source": [
    "## Solving with Ipopt\n",
    "TrajectoryOptimization provides a way to represent a trajectory optimization as a generic nonlinear program (NLP) and solve using solvers that implement the NLP interface in [`MathOptInterface`](https://github.com/jump-dev/MathOptInterface.jl), such as Ipopt (via [`Ipopt.jl`](https://github.com/jump-dev/Ipopt.jl)). \n",
    "\n",
    "Before converting to an NLP, we need to explicitly add the dynamics and initial condition as constraints to the optimization problem, which we do via `add_dynamics_constraints!`.\n",
    "\n",
    "We then convert our `Problem` to a `TrajOptNLP`, converting any applicable constraints to simple bounds on the decision variables (e.g. bound constraints and goal constraints), and specifying that the the constraint Jacobian uses a vector of non-zero values rather than a generic sparse matrix."
   ]
  },
  {
   "cell_type": "code",
   "execution_count": null,
   "metadata": {},
   "outputs": [],
   "source": [
    "using Ipopt\n",
    "using MathOptInterface\n",
    "const MOI = MathOptInterface\n",
    "\n",
    "# Copy problem to avoid modifying the original problem\n",
    "prob_nlp = copy(prob)\n",
    "\n",
    "# Add the dynamics and initial conditions as explicit constraints\n",
    "TrajectoryOptimization.add_dynamics_constraints!(prob_nlp)\n",
    "\n",
    "# Reset our initial guess\n",
    "initial_controls!(prob_nlp, U0)\n",
    "rollout!(prob_nlp)\n",
    "\n",
    "# Create the NLP\n",
    "nlp = TrajOptNLP(prob_nlp, remove_bounds=true, jac_type=:vector);"
   ]
  },
  {
   "cell_type": "markdown",
   "metadata": {},
   "source": [
    "We can now solve with Ipopt by creating the `MathOptInterface.Optimizer` and setting up the problem in the `MathOptInterface` format using `TrajectoryOptimization.build_MOI!` method"
   ]
  },
  {
   "cell_type": "code",
   "execution_count": null,
   "metadata": {
    "scrolled": true
   },
   "outputs": [],
   "source": [
    "optimizer = Ipopt.Optimizer()\n",
    "TrajectoryOptimization.build_MOI!(nlp, optimizer)\n",
    "MOI.optimize!(optimizer)\n",
    "MOI.get(optimizer, MOI.TerminationStatus())"
   ]
  },
  {
   "cell_type": "markdown",
   "metadata": {},
   "source": [
    "Since the solve updates the data structures in `nlp` during the course of the solve, we can use either `optimizer` or `nlp` to get information after the solve."
   ]
  },
  {
   "cell_type": "code",
   "execution_count": null,
   "metadata": {},
   "outputs": [],
   "source": [
    "println(\"max_violation: \", max_violation(nlp))\n",
    "println(\"cost:          \", cost(nlp));"
   ]
  },
  {
   "cell_type": "markdown",
   "metadata": {},
   "source": [
    "## Comparing Solve Times\n",
    "Here we demonstrate the compuational advantage of ALTRO over Ipopt. We demonstrate how to use `BenchmarkTools` to time a solve using `MathOptInterface` by resetting the initial guess between solves. As shown, ALTRO is about 100x faster than Ipopt."
   ]
  },
  {
   "cell_type": "code",
   "execution_count": null,
   "metadata": {},
   "outputs": [],
   "source": [
    "using BenchmarkTools\n",
    "\n",
    "# Reset initial guess and then benchmark ALTRO solver\n",
    "initial_controls!(altro, U0)\n",
    "b_altro = benchmark_solve!(altro)"
   ]
  },
  {
   "cell_type": "code",
   "execution_count": null,
   "metadata": {},
   "outputs": [],
   "source": [
    "# Reset initial guess and benchmark Ipopt solver\n",
    "initial_controls!(prob_nlp, U0)\n",
    "rollout!(prob_nlp)\n",
    "nlp = TrajOptNLP(prob_nlp, remove_bounds=true, jac_type=:vector)\n",
    "Z0 = copy(TrajectoryOptimization.get_trajectory(nlp).Z)\n",
    "\n",
    "optimizer = Ipopt.Optimizer(print_level=0)\n",
    "TrajectoryOptimization.build_MOI!(nlp, optimizer)\n",
    "Z = MOI.VariableIndex.(1:length(Z0))\n",
    "b_ipopt = @benchmark begin\n",
    "    MOI.optimize!($optimizer)\n",
    "    MOI.set($optimizer, MOI.VariablePrimalStart(), $Z, $Z0)\n",
    "    MOI.get($optimizer, MOI.TerminationStatus())\n",
    "end"
   ]
  },
  {
   "cell_type": "code",
   "execution_count": null,
   "metadata": {},
   "outputs": [],
   "source": [
    "using Statistics\n",
    "@show cost(nlp)\n",
    "@show cost(altro)\n",
    "@show max_violation(nlp)\n",
    "@show max_violation(altro)\n",
    "jdg = judge(median(b_altro), median(b_ipopt))\n",
    "println(\"Speed improvement: \", round(1/ratio(jdg).time), \"x\")\n",
    "jdg"
   ]
  },
  {
   "cell_type": "markdown",
   "metadata": {},
   "source": [
    "## Visualizing the Results"
   ]
  },
  {
   "cell_type": "code",
   "execution_count": null,
   "metadata": {},
   "outputs": [],
   "source": [
    "using TrajOptPlots\n",
    "using MeshCat\n",
    "using Plots\n",
    "\n",
    "vis = Visualizer()\n",
    "render(vis)"
   ]
  },
  {
   "cell_type": "markdown",
   "metadata": {},
   "source": [
    "We can use the default geometries for the robot, as defined in `TrajOptPlots`, using the `set_mesh!` command"
   ]
  },
  {
   "cell_type": "code",
   "execution_count": null,
   "metadata": {},
   "outputs": [],
   "source": [
    "TrajOptPlots.set_mesh!(vis, model)"
   ]
  },
  {
   "cell_type": "markdown",
   "metadata": {},
   "source": [
    "We can visualize the results of a solver by passing the solver to `visualize!`. In practice, all a solver needs to implement for this method is a `get_model` method that returns an `AbstractModel` and a `get_trajectory` method that returns an `AbstractTrajectory`."
   ]
  },
  {
   "cell_type": "code",
   "execution_count": null,
   "metadata": {},
   "outputs": [],
   "source": [
    "visualize!(vis, altro);"
   ]
  },
  {
   "cell_type": "code",
   "execution_count": null,
   "metadata": {},
   "outputs": [],
   "source": [
    "visualize!(vis, model, TrajectoryOptimization.get_trajectory(nlp));"
   ]
  },
  {
   "cell_type": "markdown",
   "metadata": {},
   "source": [
    "We can also compare both solutions by passing in both solvers:"
   ]
  },
  {
   "cell_type": "code",
   "execution_count": null,
   "metadata": {},
   "outputs": [],
   "source": [
    "visualize!(vis, altro, nlp);"
   ]
  },
  {
   "cell_type": "markdown",
   "metadata": {},
   "source": [
    "Or the model and different trajectories:"
   ]
  },
  {
   "cell_type": "code",
   "execution_count": null,
   "metadata": {},
   "outputs": [],
   "source": [
    "visualize!(vis, model, get_trajectory(altro), get_trajectory(nlp));"
   ]
  },
  {
   "cell_type": "markdown",
   "metadata": {},
   "source": [
    "After this, we'll have extra geometries floating around, which can be deleting using:"
   ]
  },
  {
   "cell_type": "code",
   "execution_count": null,
   "metadata": {},
   "outputs": [],
   "source": [
    "delete!(vis[\"robot_copies\"]);"
   ]
  },
  {
   "cell_type": "markdown",
   "metadata": {},
   "source": [
    "### Tip: Defining the visualazation method\n",
    "Visualization of the model is defined by the `visualize!(vis, model::MyModel, x::AbstractVector)` command:\n",
    " \n",
    " ```julia\n",
    " function TrajOptPlots.visualize!(vis, model::RobotZoo.Cartpole, x::AbstractVector)\n",
    "    y = x[1]\n",
    "    θ = x[2]\n",
    "    q = expm((pi-θ) * @SVector [1,0,0])\n",
    "    settransform!(vis[\"robot\",\"cart\"], Translation(0,-y,0))\n",
    "    settransform!(vis[\"robot\",\"cart\",\"pole\",\"geom\"], LinearMap(UnitQuaternion(q)))\n",
    "end\n",
    "\n",
    " ```"
   ]
  }
 ],
 "metadata": {
  "kernelspec": {
   "display_name": "Julia 1.6.7",
   "language": "julia",
   "name": "julia-1.6"
  },
  "language_info": {
   "file_extension": ".jl",
   "mimetype": "application/julia",
   "name": "julia",
   "version": "1.6.7"
  }
 },
 "nbformat": 4,
 "nbformat_minor": 2
}
