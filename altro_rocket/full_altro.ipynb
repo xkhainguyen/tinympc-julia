{
 "cells": [
  {
   "cell_type": "code",
   "execution_count": 1,
   "metadata": {},
   "outputs": [
    {
     "name": "stderr",
     "output_type": "stream",
     "text": [
      "\u001b[32m\u001b[1m  Activating\u001b[22m\u001b[39m environment at `~/SSD/Code/Julia/tinympc-julia-old/altro_rocket/Project.toml`\n"
     ]
    },
    {
     "name": "stderr",
     "output_type": "stream",
     "text": [
      "\u001b[32m\u001b[1mPrecompiling\u001b[22m\u001b[39m "
     ]
    },
    {
     "name": "stderr",
     "output_type": "stream",
     "text": [
      "project...\n"
     ]
    },
    {
     "name": "stderr",
     "output_type": "stream",
     "text": [
      "\u001b[32m  ✓ \u001b[39m\u001b[90mWoodburyMatrices\u001b[39m\n"
     ]
    },
    {
     "name": "stderr",
     "output_type": "stream",
     "text": [
      "\u001b[32m  ✓ \u001b[39m\u001b[90mRatios\u001b[39m\n",
      "\u001b[32m  ✓ \u001b[39m\u001b[90mExtents\u001b[39m\n"
     ]
    },
    {
     "name": "stderr",
     "output_type": "stream",
     "text": [
      "\u001b[32m  ✓ \u001b[39m\u001b[90mCodecBzip2\u001b[39m\n"
     ]
    },
    {
     "name": "stderr",
     "output_type": "stream",
     "text": [
      "\u001b[32m  ✓ \u001b[39m\u001b[90mAxisAlgorithms\u001b[39m\n"
     ]
    },
    {
     "name": "stderr",
     "output_type": "stream",
     "text": [
      "\u001b[32m  ✓ \u001b[39m\u001b[90mStatic\u001b[39m\n"
     ]
    },
    {
     "name": "stderr",
     "output_type": "stream",
     "text": [
      "\u001b[32m  ✓ \u001b[39m\u001b[90mOffsetArrays\u001b[39m\n",
      "\u001b[32m  ✓ \u001b[39m\u001b[90mStructArrays\u001b[39m\n"
     ]
    },
    {
     "name": "stderr",
     "output_type": "stream",
     "text": [
      "\u001b[32m  ✓ \u001b[39m\u001b[90mBitTwiddlingConvenienceFunctions\u001b[39m\n"
     ]
    },
    {
     "name": "stderr",
     "output_type": "stream",
     "text": [
      "\u001b[32m  ✓ \u001b[39m\u001b[90mGeoInterface\u001b[39m\n"
     ]
    },
    {
     "name": "stderr",
     "output_type": "stream",
     "text": [
      "\u001b[32m  ✓ \u001b[39m\u001b[90mCPUSummary\u001b[39m\n"
     ]
    },
    {
     "name": "stderr",
     "output_type": "stream",
     "text": [
      "\u001b[32m  ✓ \u001b[39m\u001b[90mBenchmarkTools\u001b[39m\n"
     ]
    },
    {
     "name": "stderr",
     "output_type": "stream",
     "text": [
      "\u001b[32m  ✓ \u001b[39m\u001b[90mHyperDualNumbers\u001b[39m\n",
      "\u001b[32m  ✓ \u001b[39mFiniteDiff\n"
     ]
    },
    {
     "name": "stderr",
     "output_type": "stream",
     "text": [
      "\u001b[32m  ✓ \u001b[39m\u001b[90mHostCPUFeatures\u001b[39m\n"
     ]
    },
    {
     "name": "stderr",
     "output_type": "stream",
     "text": [
      "\u001b[32m  ✓ \u001b[39m\u001b[90mPolyesterWeave\u001b[39m\n"
     ]
    },
    {
     "name": "stderr",
     "output_type": "stream",
     "text": [
      "\u001b[32m  ✓ \u001b[39m\u001b[90mStaticArrayInterface\u001b[39m\n"
     ]
    },
    {
     "name": "stderr",
     "output_type": "stream",
     "text": [
      "\u001b[32m  ✓ \u001b[39m\u001b[90mCloseOpenIntervals\u001b[39m\n"
     ]
    },
    {
     "name": "stderr",
     "output_type": "stream",
     "text": [
      "\u001b[32m  ✓ \u001b[39m\u001b[90mLayoutPointers\u001b[39m\n"
     ]
    },
    {
     "name": "stderr",
     "output_type": "stream",
     "text": [
      "\u001b[32m  ✓ \u001b[39m\u001b[90mInterpolations\u001b[39m\n"
     ]
    },
    {
     "name": "stderr",
     "output_type": "stream",
     "text": [
      "\u001b[32m  ✓ \u001b[39mGeometryBasics\n"
     ]
    },
    {
     "name": "stderr",
     "output_type": "stream",
     "text": [
      "\u001b[32m  ✓ \u001b[39mRobotDynamics\n"
     ]
    },
    {
     "name": "stderr",
     "output_type": "stream",
     "text": [
      "\u001b[32m  ✓ \u001b[39mRobotZoo\n"
     ]
    }
   ],
   "source": [
    "using Pkg\n",
    "Pkg.activate(@__DIR__)\n",
    "Pkg.instantiate()"
   ]
  },
  {
   "cell_type": "code",
   "execution_count": null,
   "metadata": {},
   "outputs": [],
   "source": [
    "using LinearAlgebra\n",
    "using StaticArrays\n",
    "using Printf\n",
    "using Altro\n",
    "using RobotDynamics\n",
    "const RD = RobotDynamics\n",
    "using TrajectoryOptimization\n",
    "const TO = TrajectoryOptimization\n",
    "using Plots\n",
    "using ForwardDiff  # needed for @autodiff\n",
    "using FiniteDiff   # needed for @autodiff\n",
    "import RobotDynamics: AbstractModel\n",
    "using RobotDynamics: @autodiff"
   ]
  },
  {
   "cell_type": "code",
   "execution_count": null,
   "metadata": {},
   "outputs": [],
   "source": [
    "## ---------------------ROCKET LANDING--------\n",
    "#Define a Discrete Dynamics model using RobotDynamics.jl\n",
    "@autodiff struct Rocket <: RobotDynamics.DiscreteDynamics end\n",
    "\n",
    "RD.state_dim(::Rocket) = 6\n",
    "RD.control_dim(::Rocket) = 3\n",
    "\n",
    "#RK4 integrator with free time and slack controls \n",
    "function RD.discrete_dynamics!(model::Rocket, x_next, x, u, t, h)\n",
    "    A = [1.0 0.0 0.0 0.05 0.0 0.0; \n",
    "        0.0 1.0 0.0 0.0 0.05 0.0; \n",
    "        0.0 0.0 1.0 0.0 0.0 0.05; \n",
    "        0.0 0.0 0.0 1.0 0.0 0.0; \n",
    "        0.0 0.0 0.0 0.0 1.0 0.0; \n",
    "        0.0 0.0 0.0 0.0 0.0 1.0]\n",
    "    B = [0.000125 0.0 0.0; \n",
    "        0.0 0.000125 0.0;\n",
    "        0.0 0.0 0.000125; \n",
    "        0.005 0.0 0.0; \n",
    "        0.0 0.005 0.0;  \n",
    "        0.0 0.0 0.005]\n",
    "    f = [0.0, 0.0, -0.0122625, 0.0, 0.0, -0.4905]\n",
    "    x_next .= A*x + B*u + f*1\n",
    "    return nothing     \n",
    "end\n",
    "function RD.discrete_dynamics(model::Rocket, x, u, t, h)\n",
    "    \n",
    "    #T makes x_next the dual variable type in order to use ForwardDiff\n",
    "    T = promote_type(eltype(x), eltype(u))\n",
    "    x_next = zeros(T, size(x, 1))\n",
    "    RD.discrete_dynamics!(model::Rocket, x_next, x, u, t, h)\n",
    "    return x_next\n",
    "end\n",
    "#redefine the copy function to work with discrete dynamics\n",
    "function Base.copy(model::Rocket)\n",
    "    return Rocket()\n",
    "end"
   ]
  },
  {
   "cell_type": "code",
   "execution_count": null,
   "metadata": {},
   "outputs": [],
   "source": [
    "#Create the RobotDynamics model\n",
    "model = Rocket()\n",
    "\n",
    "#obtain the size of the model (states, controls)\n",
    "nx, nu = size(model)\n",
    "N = 301\n",
    "dt = 0.05\n",
    "t_vec = dt*(0:N-1)\n",
    "tf = (N-1)*dt\n",
    "x0 = [4, 2, 20, -3, 2, -5.0]\n",
    "xg = [0,0,0,0,0,0.0]\n",
    "Xref = [deepcopy(xg) for i = 1:N]\n",
    "Uref = [zeros(nu) for i = 1:N-1]\n",
    "\n",
    "Qk = 10e-1\n",
    "Rk = 1e-0\n",
    "Qfk = 100\n",
    "\n",
    "Q = Diagonal(@SVector fill(Float64(Qk), nx))\n",
    "R = Diagonal(@SVector fill(Float64(Rk), nu))\n",
    "Qf = Diagonal(@SVector fill(Float64(Qfk), nx))\n",
    "obj = LQRObjective(Q,R,Qf,xg,N)\n",
    "\n",
    "# CONSTRAINT\n",
    "cons = ConstraintList(nx,nu,N)\n",
    "\n",
    "ncx = 2*nx*1\n",
    "ncu = 2*nu*1\n",
    "ncg = 1\n",
    "\n",
    "if ncg > 0\n",
    "    add_constraint!(cons, GoalConstraint(xg), N)\n",
    "end\n",
    "if ncu > 0\n",
    "    u_min = -10.0*ones(nu)\n",
    "    u_max =  105.0*ones(nu)\n",
    "    bnd = BoundConstraint(nx, nu, u_min=u_min, u_max=u_max)\n",
    "    add_constraint!(cons, bnd, 1:N-1)\n",
    "end\n",
    "if ncx > 0\n",
    "    # state is x y v θ\n",
    "    x_min = [-5,-5,0,-10,-10,-10.0]\n",
    "    x_max = [5,5,20,10,10,10.0]\n",
    "    bnd1 = BoundConstraint(nx, nu, x_min=x_min, x_max=x_max)\n",
    "    add_constraint!(cons, bnd1, 1:N)\n",
    "end\n",
    "\n",
    "# previous iterate\n",
    "X = [deepcopy(x0) for i = 1:N]\n",
    "U = [[0;0;100.0] for k = 1:N-1]\n",
    "# new iterate\n",
    "Xn = deepcopy(X)\n",
    "Un = deepcopy(U)\n",
    "\n",
    "# SOLVE\n",
    "prob = Problem(model, obj, x0, tf, xf=xg, constraints=cons, N=N, U0=U)\n",
    "\n",
    "# initial_controls!(prob, U)\n",
    "# rollout!(prob);\n",
    "\n",
    "solver = ALTROSolver(prob)\n",
    "set_options!(solver, \n",
    "    constraint_tolerance = 1e-4,\n",
    "    cost_tolerance = 1e-2,\n",
    "    cost_tolerance_intermediate = 1e-1,\n",
    "    gradient_tolerance = 10.0,\n",
    "    gradient_tolerance_intermediate = 1.0,\n",
    "\n",
    "    # expected_decrease_tolerance = 1e-2,\n",
    "    # iterations_inner = 1,\n",
    "    # dJ_counter_limit = 10,\n",
    "    # square_root = false,\n",
    "    # line_search_lower_bound = 1e-8,\n",
    "    # line_search_upper_bound = 10.0,\n",
    "    # line_search_decrease_factor = 0.5,\n",
    "    # iterations_linesearch = 10,\n",
    "    # max_cost_value = 1.0e8,\n",
    "    # max_state_value = 1.0e8,\n",
    "    # max_control_value = 1.0e8,\n",
    "    # static_bp = true,\n",
    "    # save_S = false,\n",
    "    # closed_loop_initial_rollout = false,\n",
    "\n",
    "    # bp_reg = false,\n",
    "    # bp_reg_initial = 0.0,\n",
    "    # bp_reg_increase_factor = 1.6,\n",
    "    # bp_reg_max = 1.0e8,\n",
    "    # bp_reg_min = 1.0e-8,\n",
    "    # bp_reg_type = :control,\n",
    "    # bp_reg_fp = 10.0,\n",
    "\n",
    "    # use_conic_cost = false,\n",
    "    # penalty_initial = 1.0,\n",
    "    # penalty_scaling = 10.0,\n",
    "    # penalty_max = 1e8,\n",
    "    # dual_max = 1e8,\n",
    "    # active_set_tolerance_al = 1e-3,\n",
    "    # iterations_outer = 30,\n",
    "    # kickout_max_penalty = false,\n",
    "    # reset_duals= true,\n",
    "    # reset_penalties = true,\n",
    "\n",
    "    # force_pn = false,\n",
    "    # verbose_pn = false,\n",
    "    # n_steps = 2,\n",
    "    # solve_type = :feasible,\n",
    "    # projected_newton_tolerance = 1e-3,\n",
    "    # active_set_tolerance_pn = 1e-3,\n",
    "    # multiplier_projection = true,\n",
    "    # ρ_chol = 1e-2,     # cholesky factorization regularization\n",
    "    # ρ_primal = 1.0e-8, # primal regularization\n",
    "    # ρ_dual = 1.0e-8,   # regularization for multiplier projection \n",
    "    # r_threshold = 1.1,    \n",
    "\n",
    "    projected_newton = false,\n",
    "#     reuse_jacobians = false,\n",
    "#     trim_stats = true,  # disable if you want to call methods after solve that add to history\n",
    "#     iterations = 1000,   # max number of iterations\n",
    "#     show_summary = true, \n",
    "    verbose = 3)\n",
    "\n",
    "set_options!(solver, projected_newton=false, verbose=3)\n",
    "solve!(solver);\n",
    "X_altro = states(solver)\n",
    "U_altro = controls(solver);"
   ]
  },
  {
   "cell_type": "code",
   "execution_count": null,
   "metadata": {},
   "outputs": [],
   "source": [
    "Un = hcat(Vector.(U_altro)...)\n",
    "Xn = hcat(Vector.(X_altro)...)\n",
    "display(plot(t_vec,Xn',label = [\"x₁\" \"x₂\" \"x₃\" \"ẋ₁\" \"ẋ₂\" \"ẋ₃\"],linestyle=[:solid :solid :solid :dash :dash :dash],\n",
    "             title = \"State History\",\n",
    "             xlabel = \"time (s)\", ylabel = \"x\"))\n",
    "display(plot(t_vec[1:end-1],Un',label = [\"u₁\" \"u₂\" \"u₃\"],\n",
    "             title = \"Input History\",\n",
    "             xlabel = \"time (s)\", ylabel = \"u\"))"
   ]
  }
 ],
 "metadata": {
  "kernelspec": {
   "display_name": "Julia 1.6.7",
   "language": "julia",
   "name": "julia-1.6"
  },
  "language_info": {
   "file_extension": ".jl",
   "mimetype": "application/julia",
   "name": "julia",
   "version": "1.6.7"
  },
  "orig_nbformat": 4
 },
 "nbformat": 4,
 "nbformat_minor": 2
}
